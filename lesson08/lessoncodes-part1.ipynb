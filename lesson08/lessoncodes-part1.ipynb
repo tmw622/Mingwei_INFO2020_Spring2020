{
  "nbformat": 4,
  "nbformat_minor": 0,
  "metadata": {
    "colab": {
      "name": "Untitled10.ipynb",
      "provenance": [],
      "collapsed_sections": [],
      "authorship_tag": "ABX9TyNQj+sWdkSBerbNIRKtPiTI",
      "include_colab_link": true
    },
    "kernelspec": {
      "name": "python3",
      "display_name": "Python 3"
    }
  },
  "cells": [
    {
      "cell_type": "markdown",
      "metadata": {
        "id": "view-in-github",
        "colab_type": "text"
      },
      "source": [
        "<a href=\"https://colab.research.google.com/github/tmw622/Mingwei_INFO2020_Spring2020/blob/master/lesson08/lessoncodes-part1.ipynb\" target=\"_parent\"><img src=\"https://colab.research.google.com/assets/colab-badge.svg\" alt=\"Open In Colab\"/></a>"
      ]
    },
    {
      "cell_type": "code",
      "metadata": {
        "id": "pfZR8NBj6vRj",
        "colab_type": "code",
        "colab": {
          "base_uri": "https://localhost:8080/",
          "height": 102
        },
        "outputId": "441c79b9-3d38-4ae6-df74-08e703be240d"
      },
      "source": [
        "import copy\n",
        "\n",
        "class Point:\n",
        "  def __init__(self,x=0,y=0):\n",
        "    self.x=x\n",
        "    self.y=y\n",
        "\n",
        "  def distance_from_origin(self):\n",
        "    return (self.x**2+self.y**2)**0.5\n",
        "\n",
        "  def __str__(self):\n",
        "    #return \"You can't print me!\"\n",
        "    return \"({0},{1})\".format(self.x,self.y)\n",
        "\n",
        "  def halfway(self,target):\n",
        "    mx=(self.x+target.x)/2\n",
        "    my=(self.y+target.y)/2\n",
        "    return Point(mx,my)\n",
        "\n",
        "def print_point(pt):\n",
        "  print(\"({0},{1})\".format(pt.x,pt.y))\n",
        "\n",
        "def midpoint(p1,p2):\n",
        "  mx=(p1.x+p2.x)/2\n",
        "  my=(p1.y+p2.y)/2\n",
        "  return Point(mx,my)\n",
        "\n",
        "def same_coordinates(p1,p2):\n",
        "  return (p1.x==p2.x) and (p1.y==p2.y)\n",
        "p=Point()\n",
        "q=Point(3,4)\n",
        "r=Point(5,6)\n",
        "\n",
        "print(p.x,p.y,q.x,q.y,r.x,r.y)\n",
        "print(r.distance_from_origin())\n",
        "\n",
        "print_point(q)\n",
        "print(r)\n",
        "\n",
        "print(midpoint(q,r))\n",
        "print(q.halfway(r))\n",
        "\n",
        "p1=Point(3,4)\n",
        "p2=Point(3,4)\n",
        "print(p1 is p2)\n",
        "\n",
        "print(same_coordinates(p1,p2))\n",
        "\n",
        "print(p1==p2)\n",
        "\n",
        "a=[2,3]\n",
        "b=[2,3]\n",
        "print(a==b)\n",
        "\n",
        "p2=copy.copy(p1)\n",
        "print(p1 is p2)\n",
        "print(same_coordinates(p1,p2))\n",
        "\n"
      ],
      "execution_count": 19,
      "outputs": [
        {
          "output_type": "stream",
          "text": [
            "7.810249675906654\n",
            "(3,4)\n",
            "(5,6)\n",
            "(4.0,5.0)\n",
            "(4.0,5.0)\n"
          ],
          "name": "stdout"
        }
      ]
    },
    {
      "cell_type": "code",
      "metadata": {
        "id": "01OwGevlB082",
        "colab_type": "code",
        "colab": {}
      },
      "source": [
        "import Point\n",
        "import copy\n",
        "class Rectangle:\n",
        "    def __init__(self, posn, w, h):\n",
        "        self.corner = posn\n",
        "        self.width = w\n",
        "        self.height = h\n",
        "\n",
        "    def __str__(self):\n",
        "        return \"({0},{1},{2})\".format(self.corner, self.width, self.height)\n",
        "\n",
        "    def grow(self,delta_width,delta_heigh):\n",
        "        self.width+=delta_width\n",
        "        self.height+=delta_heigh\n",
        "\n",
        "    def move(self,dx,dy):\n",
        "        self.corner.x+=dx\n",
        "        self.corner.y+=dy\n",
        "\n",
        "box = Rectangle(Point.Point(0, 0), 100, 200)\n",
        "bomb = Rectangle(Point.Point(100, 80), 5, 10)\n",
        "\n",
        "box.grow(50,100)\n",
        "box.move(100,100)\n",
        "\n",
        "print(\"box:\", box)\n",
        "print(\"bomb:\", bomb)\n",
        "print(bomb.corner.x)\n",
        "\n",
        "b1=Rectangle(Point.Point(1,2),100,200)\n",
        "b2=copy.copy(b1)\n",
        "b3=copy.deepcopy(b2)\n",
        "\n",
        "print(b1.corner is b2.corner)\n",
        "print(b1.corner is b3.corner)"
      ],
      "execution_count": 0,
      "outputs": []
    }
  ]
}