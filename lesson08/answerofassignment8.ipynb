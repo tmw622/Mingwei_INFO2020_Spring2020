{
  "nbformat": 4,
  "nbformat_minor": 0,
  "metadata": {
    "colab": {
      "name": "Copy of Untitled11.ipynb",
      "provenance": [],
      "collapsed_sections": [],
      "authorship_tag": "ABX9TyNlUDk/RGkVlBEZ4rUMlw19",
      "include_colab_link": true
    },
    "kernelspec": {
      "name": "python3",
      "display_name": "Python 3"
    }
  },
  "cells": [
    {
      "cell_type": "markdown",
      "metadata": {
        "id": "view-in-github",
        "colab_type": "text"
      },
      "source": [
        "<a href=\"https://colab.research.google.com/github/tmw622/Mingwei_INFO2020_Spring2020/blob/master/lesson08/answerofassignment8.ipynb\" target=\"_parent\"><img src=\"https://colab.research.google.com/assets/colab-badge.svg\" alt=\"Open In Colab\"/></a>"
      ]
    },
    {
      "cell_type": "markdown",
      "metadata": {
        "id": "r-B5fClt1oy2",
        "colab_type": "text"
      },
      "source": [
        "**Q1:**Rewrite the distance function from the chapter 4 titled Fruitful functions so that it takes two Points as parameters instead of four numbers.\n"
      ]
    },
    {
      "cell_type": "code",
      "metadata": {
        "id": "18tNUP06dvzG",
        "colab_type": "code",
        "outputId": "015ec343-e910-4e66-bdf8-af0b087f6cb2",
        "colab": {
          "base_uri": "https://localhost:8080/",
          "height": 34
        }
      },
      "source": [
        "class Point:\n",
        "  def __init__(self,x=0,y=0):\n",
        "    self.x=x\n",
        "    self.y=y\n",
        "\n",
        "  def distance_from_origin(self):\n",
        "    return (self.x**2+self.y**2)**0.5\n",
        "\n",
        "  def __str__(self):\n",
        "    #return \"You can't print me!\"\n",
        "    return \"({0},{1})\".format(self.x,self.y)\n",
        "\n",
        "  def halfway(self,target):\n",
        "    mx=(self.x+target.x)/2\n",
        "    my=(self.y+target.y)/2\n",
        "    return Point(mx,my)\n",
        "\n",
        "import math\n",
        "\n",
        "def distance(p1,p2):\n",
        "  deltaX=p1.x-p2.x\n",
        "  deltaY=p1.y-p2.y\n",
        "  return math.sqrt(deltaX**2+deltaY**2)\n",
        "\n",
        "p1=Point(3,4)\n",
        "p2=Point(5,6)\n",
        "distance(p1,p2)"
      ],
      "execution_count": 0,
      "outputs": [
        {
          "output_type": "execute_result",
          "data": {
            "text/plain": [
              "2.8284271247461903"
            ]
          },
          "metadata": {
            "tags": []
          },
          "execution_count": 2
        }
      ]
    },
    {
      "cell_type": "markdown",
      "metadata": {
        "id": "VV852jr01xhZ",
        "colab_type": "text"
      },
      "source": [
        "**Q2:**Add a method reflect_x to Point which returns a new Point, one which is the reflection of the point about the x-axis. \n"
      ]
    },
    {
      "cell_type": "code",
      "metadata": {
        "id": "TQedWE_U16Ho",
        "colab_type": "code",
        "outputId": "9597ad28-182e-4109-92a3-b4a54ffcdeb3",
        "colab": {
          "base_uri": "https://localhost:8080/",
          "height": 51
        }
      },
      "source": [
        "class Point:\n",
        "  def __init__(self,x=0,y=0):\n",
        "    self.x=x\n",
        "    self.y=y\n",
        "\n",
        "  def distance_from_origin(self):\n",
        "    return (self.x**2+self.y**2)**0.5\n",
        "\n",
        "  def __str__(self):\n",
        "    #return \"You can't print me!\"\n",
        "    return \"({0},{1})\".format(self.x,self.y)\n",
        "\n",
        "  def halfway(self,target):\n",
        "    mx=(self.x+target.x)/2\n",
        "    my=(self.y+target.y)/2\n",
        "    return Point(mx,my)\n",
        "\n",
        "  def refect_x(self):\n",
        "     return Point(self.x,-self.y)\n",
        "     \n",
        "p=Point(3,4)\n",
        "print(\"The reflect x of Point(3,4) is \")\n",
        "print(p.refect_x())"
      ],
      "execution_count": 0,
      "outputs": [
        {
          "output_type": "stream",
          "text": [
            "The reflect x of Point(3,4) is \n",
            "(3,-4)\n"
          ],
          "name": "stdout"
        }
      ]
    },
    {
      "cell_type": "markdown",
      "metadata": {
        "id": "B2Da54Ac2JwT",
        "colab_type": "text"
      },
      "source": [
        "**Q3:**Add a method area to the Rectangle class that returns the area of any instance.\n",
        "\n",
        "**Q4:**Write a flip method in the Rectangle class that swaps the width and height of any rectangle instance.\n",
        "\n",
        "**Q5:**Write a new method in the Rectangle class to test if a Point falls within the rectangle. For this exercise, assume that a rectangle at (0,0) with width 10 and height 5 has open upper bounds on the width and height, i.e. it stretches in the x direction from [0 to 10), where 0 is included but 10 is excluded, and from [0 to 5) in the y direction. So it does not contain the point (10, 2). "
      ]
    },
    {
      "cell_type": "code",
      "metadata": {
        "id": "3ImSYquT2S-6",
        "colab_type": "code",
        "outputId": "6aa9fff4-53dc-4e77-c21c-66b75ecdc2d5",
        "colab": {
          "base_uri": "https://localhost:8080/",
          "height": 68
        }
      },
      "source": [
        "class Point:\n",
        "  def __init__(self,x=0,y=0):\n",
        "    self.x=x\n",
        "    self.y=y\n",
        "\n",
        "class Rectangle:\n",
        "    def __init__(self, posn, w, h):\n",
        "        self.corner = posn\n",
        "        self.width = w\n",
        "        self.height = h\n",
        "\n",
        "    def __str__(self):\n",
        "        return \"({0},{1},{2})\".format(self.corner, self.width, self.height)\n",
        "\n",
        "    def grow(self,delta_width,delta_heigh):\n",
        "        self.width+=delta_width\n",
        "        self.height+=delta_heigh\n",
        "\n",
        "    def move(self,dx,dy):\n",
        "        self.corner.x+=dx\n",
        "        self.corner.y+=dy\n",
        "\n",
        "    ##this method is for Q3\n",
        "    def area(self):\n",
        "      return self.width*self.height\n",
        "\n",
        "    ##this method is for Q4\n",
        "    def flip(self):\n",
        "      (self.width,self.height)=(self.height,self.width)\n",
        "      # temp=self.width\n",
        "      # self.width=self.height\n",
        "      # self.height=temp\n",
        "    \n",
        "    ##this method is for Q5\n",
        "    def fallin(self,p):\n",
        "      scopex=self.corner.x+self.width\n",
        "      scopey=self.corner.y+self.height\n",
        "      if p.x in range(se.x,scoplf.cornerex+1) and p.y in range(self.corner.y,scopey+1):\n",
        "          print(\"Point({0},{1}) falls in this rectange\".format(p.x,p.y))\n",
        "      else:\n",
        "          print(\"Point({0},{1}) doesn't fall in this rectange\".format(p.x,p.y))\n",
        "p=Point(3,4)\n",
        "r=Rectangle(p,5,6)\n",
        "print(r.area())\n",
        "\n",
        "r.flip()\n",
        "print(r)\n",
        "\n",
        "p2=Point(10,16)\n",
        "r.fallin(p2)"
      ],
      "execution_count": 0,
      "outputs": [
        {
          "output_type": "stream",
          "text": [
            "30\n",
            "(<__main__.Point object at 0x7fa2bb48a630>,6,5)\n",
            "Point(10,16) doesn't fall in this rectange\n"
          ],
          "name": "stdout"
        }
      ]
    }
  ]
}