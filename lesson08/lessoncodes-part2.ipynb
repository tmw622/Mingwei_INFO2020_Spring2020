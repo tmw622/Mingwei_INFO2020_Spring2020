{
  "nbformat": 4,
  "nbformat_minor": 0,
  "metadata": {
    "colab": {
      "name": "Untitled12.ipynb",
      "provenance": [],
      "collapsed_sections": [],
      "authorship_tag": "ABX9TyMSRoeGfzFalYNFyBOj2Iwl",
      "include_colab_link": true
    },
    "kernelspec": {
      "name": "python3",
      "display_name": "Python 3"
    }
  },
  "cells": [
    {
      "cell_type": "markdown",
      "metadata": {
        "id": "view-in-github",
        "colab_type": "text"
      },
      "source": [
        "<a href=\"https://colab.research.google.com/github/tmw622/Mingwei_INFO2020_Spring2020/blob/master/lesson08/lessoncodes-part2.ipynb\" target=\"_parent\"><img src=\"https://colab.research.google.com/assets/colab-badge.svg\" alt=\"Open In Colab\"/></a>"
      ]
    },
    {
      "cell_type": "code",
      "metadata": {
        "id": "wPdtkp9Bybqz",
        "colab_type": "code",
        "colab": {
          "base_uri": "https://localhost:8080/",
          "height": 34
        },
        "outputId": "79485294-0a02-48dc-e7f7-4af7ab630594"
      },
      "source": [
        "class Mytime:\n",
        "  def __init__(self,hrs=0,mins=0,secs=0):\n",
        "    totalsecs=hrs*3600+mins*60+secs\n",
        "    self.hours=totalsecs//3600\n",
        "    leftoversecs=totalsecs % 3600\n",
        "    self.minutes=leftoversecs // 60\n",
        "    self.seconds=leftoversecs % 60\n",
        "\n",
        "\n",
        "  def increment(self,seconds):\n",
        "    self.seconds+=seconds;\n",
        "    while self.seconds>=60:\n",
        "      self.seconds-=60\n",
        "      self.minutes+=1\n",
        "\n",
        "    while self.minutes>=60:\n",
        "      self.minutes-=60\n",
        "      self.hours+=1\n",
        "  \n",
        "  def to_seconds(self):\n",
        "    return self.hours*3600+self.minutes*60+self.seconds\n",
        "\n",
        "  def __add__(self,other):\n",
        "    return Mytime(0,0,self.to_seconds()+other.to_seconds())\n",
        "\n",
        "  def __str__(self):\n",
        "    return \"the time is {0}:{1}:{2}\".format(self.hours,self.minutes,self.seconds)\n",
        "\n",
        "\n",
        "\n",
        "\n",
        "def add_time(t1,t2):\n",
        "  h=t1.hours+t2.hours\n",
        "  m=t1.minutes+t2.minutes\n",
        "  s=t1.seconds+t2.seconds\n",
        "\n",
        "  if s>=60:\n",
        "    s-=60\n",
        "    m+=1\n",
        "  \n",
        "  if m>=60:\n",
        "    m-=60\n",
        "    h+=1\n",
        "  \n",
        "  sum_t=Mytime(h,m,s)\n",
        "  return sum_t\n",
        "\n",
        "\n",
        "\n",
        "time1=Mytime(11,59,30)\n",
        "time2=Mytime(12,32,59)\n",
        "print(time1+time2)"
      ],
      "execution_count": 10,
      "outputs": [
        {
          "output_type": "stream",
          "text": [
            "the time is 24:32:29\n"
          ],
          "name": "stdout"
        }
      ]
    },
    {
      "cell_type": "code",
      "metadata": {
        "id": "w6DmwxeH8hIE",
        "colab_type": "code",
        "colab": {
          "base_uri": "https://localhost:8080/",
          "height": 51
        },
        "outputId": "62c0d718-ddd0-4e15-cad5-ccc681ecb2e1"
      },
      "source": [
        "class Point:\n",
        "  def __init__(self,x=0,y=0):\n",
        "    self.x=x\n",
        "    self.y=y\n",
        "\n",
        "  def distance_from_origin(self):\n",
        "    return (self.x**2+self.y**2)**0.5\n",
        "\n",
        "  def __str__(self):\n",
        "    #return \"You can't print me!\"\n",
        "    return \"({0},{1})\".format(self.x,self.y)\n",
        "\n",
        "  def halfway(self,target):\n",
        "    mx=(self.x+target.x)/2\n",
        "    my=(self.y+target.y)/2\n",
        "    return Point(mx,my)\n",
        "\n",
        "  def __mul__(self,other):\n",
        "    return self.x*other.x+self.y*other.y\n",
        "\n",
        "  def __rmul__(self,other):\n",
        "    return Point(other*self.x,other*self.y)\n",
        "\n",
        "  def __add__(self,other):\n",
        "    return Point(other.x+self.x,other.y+self.y)\n",
        "\n",
        "def multadd(x,y,z):\n",
        "  return x*y+z\n",
        "\n",
        "p1=Point(1,3)\n",
        "p2=Point(3,4)\n",
        "print(multadd(2,p1,p2))\n",
        "print(multadd(p1,p2,2))\n",
        "\n"
      ],
      "execution_count": 12,
      "outputs": [
        {
          "output_type": "stream",
          "text": [
            "(5,10)\n",
            "17\n"
          ],
          "name": "stdout"
        }
      ]
    },
    {
      "cell_type": "code",
      "metadata": {
        "id": "gbEjK6or_oAQ",
        "colab_type": "code",
        "colab": {}
      },
      "source": [
        "class Card:\n",
        "  suits=[\"Clubs\",\"Diamonds\",\"Hearts\",\"Spades\"]\n",
        "  ranks=[\"narf\",\"Ace\",\"2\",\"3\",\"4\",\"5\",\"6\",\"7\",\"8\",\"9\",\"10\",\"Jack\",\"Queen\",\"King\"]\n",
        "\n",
        "\n",
        "  def __init__(self,suit=0,rank=0):\n",
        "    self.suit=suit\n",
        "    self.rank=rank\n",
        "\n",
        "  def __str__(self):\n",
        "    return (self.ranks[self.rank]+\" of \"+self.suits[self.suit])\n",
        "  \n",
        "  def cmp(self,other):\n",
        "    if self.suit>other.suit:return 1\n",
        "    if self.suit<other.suit:return -1\n",
        "\n",
        "    if self.rank>other.rank: return 1\n",
        "    if self.rank<other.rank:return -1\n",
        "\n",
        "    return 0\n",
        "\n",
        "  def __eq__(self,other):\n",
        "    return self.cmp(other)==0\n",
        "  \n",
        "  def __le__(self,other):\n",
        "    return self.cmp(other)<=0\n",
        "  \n",
        "  def __ge__(self,other):\n",
        "    return self.cmp(other)>=0\n",
        "\n",
        "  def __gt__(self,other):\n",
        "    return self.cmp(other)>0\n",
        "\n",
        "  def __lt__(self,other):\n",
        "    return self.cmp(other)<0\n",
        "\n",
        "  def __ne__(self,other):\n",
        "    return self.cmp(other)!=0\n",
        "\n",
        "\n",
        "three_of_clubs=Card(0,3)\n",
        "card1=Card(1,11)\n",
        "print(card1)\n",
        "\n",
        "card2=Card(1,3)\n",
        "print(card2)\n",
        "\n",
        "print(card2.suits[3])\n",
        "\n",
        "print(card1>card2)\n",
        "\n",
        "import Cards\n",
        "\n",
        "class Deck:\n",
        "  def __init__(self):\n",
        "    self.cards=[]\n",
        "    for suit in range(4):\n",
        "      for rank in range(1,14):\n",
        "        self.cards.append(Cards.card(suit,rank))\n",
        "\n",
        "  def print_deck(self):\n",
        "    for card in self.cards:\n",
        "      print(card)\n",
        "\n",
        "  def __str__(self):\n",
        "    s=\"\"\n",
        "    for i in range(len(self.cards)):\n",
        "      s=s+\" \"*i+str(self.cards[i])+\"\\n\"\n",
        "    return s\n",
        "\n",
        "red_deck=Deck()\n",
        "blue_deck=Deck()\n",
        "print(blue_deck)\n"
      ],
      "execution_count": 0,
      "outputs": []
    }
  ]
}