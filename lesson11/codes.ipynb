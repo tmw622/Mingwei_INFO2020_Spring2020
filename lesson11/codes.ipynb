{
  "nbformat": 4,
  "nbformat_minor": 0,
  "metadata": {
    "colab": {
      "name": "Untitled21.ipynb",
      "provenance": [],
      "collapsed_sections": [],
      "authorship_tag": "ABX9TyPzJT1AM2uN3uCa8q6PBs3q",
      "include_colab_link": true
    },
    "kernelspec": {
      "name": "python3",
      "display_name": "Python 3"
    }
  },
  "cells": [
    {
      "cell_type": "markdown",
      "metadata": {
        "id": "view-in-github",
        "colab_type": "text"
      },
      "source": [
        "<a href=\"https://colab.research.google.com/github/tmw622/Mingwei_INFO2020_Spring2020/blob/master/lesson11/codes.ipynb\" target=\"_parent\"><img src=\"https://colab.research.google.com/assets/colab-badge.svg\" alt=\"Open In Colab\"/></a>"
      ]
    },
    {
      "cell_type": "markdown",
      "metadata": {
        "id": "_d-92RXe_Atr",
        "colab_type": "text"
      },
      "source": [
        "All the data needed can be downloaded from the following link.\n",
        "https://drive.google.com/file/d/1_UNegUsLjs5fWMcLFyHGiBfg7dd2Kvfn/view?usp=sharing"
      ]
    },
    {
      "cell_type": "code",
      "metadata": {
        "id": "knQzzIhf9fyR",
        "colab_type": "code",
        "colab": {}
      },
      "source": [
        "# read cvs file\n",
        "\n",
        "import csv\n",
        "\n",
        "filename=\"ch02-data.csv\"\n",
        "\n",
        "try:\n",
        "    with open(filename) as f:\n",
        "        reader=csv.reader(f)\n",
        "        for row in reader:\n",
        "            if reader.line_num>1:\n",
        "                print(row)\n",
        "except csv.Error as e:\n",
        "    print(\"Error reading CSV file at  line %s:%s\" % (reader.line_num,e))\n",
        "    exit(-1)"
      ],
      "execution_count": 0,
      "outputs": []
    },
    {
      "cell_type": "code",
      "metadata": {
        "id": "8B_WWW6J91uS",
        "colab_type": "code",
        "colab": {}
      },
      "source": [
        "# read excel file\n",
        "\n",
        "import xlrd\n",
        "\n",
        "file=\"ch02-xlsxdata.xlsx\"\n",
        "\n",
        "wb=xlrd.open_workbook(filename=file)\n",
        "ws=wb.sheet_by_name(\"Sheet1\")\n",
        "\n",
        "dataset=[]\n",
        "\n",
        "for r in range(ws.nrows):\n",
        "    col=[]\n",
        "    for c in range(ws.ncols):\n",
        "        col.append(ws.cell(r,c).value)\n",
        "    dataset.append(col)\n",
        "\n",
        "print(dataset)\n",
        "\n",
        "import pprint\n",
        "pprint.pprint(dataset)\n"
      ],
      "execution_count": 0,
      "outputs": []
    },
    {
      "cell_type": "code",
      "metadata": {
        "id": "qbm6aY18-A3c",
        "colab_type": "code",
        "colab": {}
      },
      "source": [
        "# read fix data\n",
        "import struct\n",
        "\n",
        "mask='9s14s5s'\n",
        "\n",
        "datafile='fixedwidth.data'\n",
        "\n",
        "with open(datafile,'r') as f:\n",
        "    for line in f:\n",
        "        fields=struct.Struct(mask).unpack_from(bytes(line,\"utf-8\"))\n",
        "        print('fields',[field for field in fields])\n"
      ],
      "execution_count": 0,
      "outputs": []
    },
    {
      "cell_type": "code",
      "metadata": {
        "id": "ZjOPqENj-J4b",
        "colab_type": "code",
        "colab": {}
      },
      "source": [
        "# read tab file\n",
        "import csv\n",
        "\n",
        "filename=\"ch02-data.tab\"\n",
        "\n",
        "try:\n",
        "    with open(filename) as f:\n",
        "        reader=csv.reader(f,dialect=csv.excel_tab)\n",
        "        for row in reader:\n",
        "            #if reader.line_num>1:\n",
        "            print(row)\n",
        "except csv.Error as e:\n",
        "    print(\"Error reading CSV file at  line %s:%s\" % (reader.line_num, e))\n",
        "    exit(-1)\n"
      ],
      "execution_count": 0,
      "outputs": []
    },
    {
      "cell_type": "code",
      "metadata": {
        "id": "ZnVudJ7Q-RRj",
        "colab_type": "code",
        "colab": {}
      },
      "source": [
        "# read json file\n",
        "import requests\n",
        "from pprint import pprint\n",
        "\n",
        "url=\"https://api.github.com/users/justglowing\"\n",
        "r=requests.get(url)\n",
        "jsonobject=r.json()\n",
        "print(jsonobject[\"bio\"])\n"
      ],
      "execution_count": 0,
      "outputs": []
    },
    {
      "cell_type": "code",
      "metadata": {
        "id": "esgakQ9K-Zpi",
        "colab_type": "code",
        "colab": {}
      },
      "source": [
        "#  read csv by pandas\n",
        "import pandas as pd\n",
        "\n",
        "filename=\"ch02-data.csv\"\n",
        "\n",
        "reader=pd.read_csv(filename)\n",
        "reader['num_x_2']=reader['numbers']*2\n",
        "reader.to_json('ch02_data_more.json')\n"
      ],
      "execution_count": 0,
      "outputs": []
    },
    {
      "cell_type": "code",
      "metadata": {
        "id": "qMCJ1UeD-fGm",
        "colab_type": "code",
        "colab": {}
      },
      "source": [
        "#  read csv by pandas 2\n",
        "import pandas as pd\n",
        "\n",
        "filename='ch02-data.csv'\n",
        "data=pd.read_csv(filename)\n",
        "\n",
        "print(data.columns)\n",
        "print(data['dates'])\n",
        "for i in range(len(data)):\n",
        "    print(data[\"dates\"][i]+\" \"+str(data[\"numbers\"][i]))"
      ],
      "execution_count": 0,
      "outputs": []
    },
    {
      "cell_type": "code",
      "metadata": {
        "id": "EvDrMX2j-yQN",
        "colab_type": "code",
        "colab": {}
      },
      "source": [
        "# read xls by pandas\n",
        "import pandas as pd\n",
        "\n",
        "filename=\"ch02-xlsxdata.xlsx\"\n",
        "data=pd.read_excel(filename,header=None)\n",
        "\n",
        "rows=len(data)\n",
        "cols=len(data.keys())\n",
        "\n",
        "for i in range(rows):\n",
        "    for j in range(cols):\n",
        "        print(data[j][i])\n"
      ],
      "execution_count": 0,
      "outputs": []
    },
    {
      "cell_type": "code",
      "metadata": {
        "id": "c9ggrwTH-6Fm",
        "colab_type": "code",
        "colab": {}
      },
      "source": [
        "# read chunk\n",
        "\n",
        "import pandas as pd\n",
        "\n",
        "reader=pd.read_csv(\"ch02-data.csv\",chunksize=40)\n",
        "\n",
        "for chunk in reader:\n",
        "    print(chunk)\n"
      ],
      "execution_count": 0,
      "outputs": []
    },
    {
      "cell_type": "code",
      "metadata": {
        "id": "h6X-ZsoN-9AE",
        "colab_type": "code",
        "colab": {}
      },
      "source": [
        "# export data\n",
        "import pandas as pd\n",
        "\n",
        "a=['a','b','c']\n",
        "b=[1,2,3]\n",
        "dit={'char':a,'num':b}\n",
        "\n",
        "file_path='output.xlsx'\n",
        "writer=pd.ExcelWriter(file_path)\n",
        "\n",
        "df=pd.DataFrame(dit)\n",
        "df.to_excel(writer,columns=['char','num'],index=False,encoding='utf-8',sheet_name='Output')\n",
        "writer.save()\n",
        "\n",
        "df.to_csv('out.csv',columns=['char','num'],index=True,sep='#')\n",
        "\n"
      ],
      "execution_count": 0,
      "outputs": []
    }
  ]
}