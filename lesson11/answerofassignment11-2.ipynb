{
  "nbformat": 4,
  "nbformat_minor": 0,
  "metadata": {
    "colab": {
      "name": "Untitled25.ipynb",
      "provenance": [],
      "authorship_tag": "ABX9TyOY+L260GFxt9OdPX71Utkg",
      "include_colab_link": true
    },
    "kernelspec": {
      "name": "python3",
      "display_name": "Python 3"
    }
  },
  "cells": [
    {
      "cell_type": "markdown",
      "metadata": {
        "id": "view-in-github",
        "colab_type": "text"
      },
      "source": [
        "<a href=\"https://colab.research.google.com/github/tmw622/Mingwei_INFO2020_Spring2020/blob/master/lesson11/answerofassignment11-2.ipynb\" target=\"_parent\"><img src=\"https://colab.research.google.com/assets/colab-badge.svg\" alt=\"Open In Colab\"/></a>"
      ]
    },
    {
      "cell_type": "markdown",
      "metadata": {
        "id": "vqCt3lO0fcsN",
        "colab_type": "text"
      },
      "source": [
        "**Q1:**In database “world”, there is table which stores life expectancy of most countries. \n",
        "Using bar plots to display  the life expenctancy by countries in one specific continent.\n"
      ]
    },
    {
      "cell_type": "code",
      "metadata": {
        "id": "b4mqhW7LfYuG",
        "colab_type": "code",
        "colab": {}
      },
      "source": [
        "import pymysql\n",
        "import matplotlib.pyplot as plt\n",
        "\n",
        "pydb=pymysql.connect('localhost','root','python3020','world')\n",
        "dbcursor=pydb.cursor()\n",
        "\n",
        "\n",
        "\n",
        "sql=\"select name,lifeexpectancy,continent from country where continent=%s limit 8\"\n",
        "value=input('please input a continent:')\n",
        "command=dbcursor.execute(sql,value)\n",
        "results=dbcursor.fetchall()\n",
        "\n",
        "countrylist=[]\n",
        "lifelist=[]\n",
        "\n",
        "for row in results:\n",
        "    countrylist.append(row[0])\n",
        "    lifelist.append(str(row[1]))\n",
        "\n",
        "plt.bar(countrylist,lifelist,width=0.5,alpha=0.7)\n",
        "plt.xticks(rotation=60)\n",
        "\n",
        "plt.show()"
      ],
      "execution_count": 0,
      "outputs": []
    },
    {
      "cell_type": "markdown",
      "metadata": {
        "id": "gADxsFsGfcKZ",
        "colab_type": "text"
      },
      "source": [
        "**Q2:**There is an excel file named “catering_sale_all.xls”. It stores the sale situation of several kinds of food on one day. Using line chart to display the selling situation on every day by a specific food name. "
      ]
    },
    {
      "cell_type": "code",
      "metadata": {
        "id": "SA9MrU_kfyTK",
        "colab_type": "code",
        "colab": {}
      },
      "source": [
        "import matplotlib.pyplot as plt\n",
        "import pandas as pd\n",
        "\n",
        "filename = \"catering_sale_all.xls\"\n",
        "excel = pd.read_excel(filename, header=0)\n",
        "foodname=input(\"please input a food name:\")\n",
        "\n",
        "foodlist=excel[foodname]\n",
        "saledate=excel['sale date']\n",
        "\n",
        "plt.plot(saledate,foodlist)\n",
        "plt.xticks(rotation=60)\n",
        "plt.show()"
      ],
      "execution_count": 0,
      "outputs": []
    }
  ]
}