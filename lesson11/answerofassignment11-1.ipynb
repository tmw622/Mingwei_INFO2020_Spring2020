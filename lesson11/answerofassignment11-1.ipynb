{
  "nbformat": 4,
  "nbformat_minor": 0,
  "metadata": {
    "colab": {
      "name": "Untitled22.ipynb",
      "provenance": [],
      "authorship_tag": "ABX9TyOJgTP9TJS0bidMiaxNla3P",
      "include_colab_link": true
    },
    "kernelspec": {
      "name": "python3",
      "display_name": "Python 3"
    }
  },
  "cells": [
    {
      "cell_type": "markdown",
      "metadata": {
        "id": "view-in-github",
        "colab_type": "text"
      },
      "source": [
        "<a href=\"https://colab.research.google.com/github/tmw622/Mingwei_INFO2020_Spring2020/blob/master/lesson11/answerofassignment11-1.ipynb\" target=\"_parent\"><img src=\"https://colab.research.google.com/assets/colab-badge.svg\" alt=\"Open In Colab\"/></a>"
      ]
    },
    {
      "cell_type": "markdown",
      "metadata": {
        "id": "_aKKDb00Mb6X",
        "colab_type": "text"
      },
      "source": [
        "**Q1：**\n",
        "There is an csv file named “ch02-data.csv”. It stores a date and a numbers. Write a series of functions that can sum the numbers by date and output the results into a excel. The requirements are follows.\n",
        "\n",
        "   1.1 create a table in MySQL database which has the same structure with csv file.\n",
        "\n",
        "   1.2 read the csv file and import the data into MySQL table\n",
        "\n",
        "   1.3 using sql to sum the numbers by date  \n",
        "\n",
        "   1.4 output the sum results into an excel file\n"
      ]
    },
    {
      "cell_type": "code",
      "metadata": {
        "id": "akxwpu-pMXyi",
        "colab_type": "code",
        "colab": {}
      },
      "source": [
        "import pandas as pd\n",
        "import pymysql\n",
        "\n",
        "def conndb():\n",
        "    db = pymysql.connect(\"localhost\", \"root\", \"python3020\", \"pydb\")\n",
        "    dbcursor = db.cursor()\n",
        "    return (db,dbcursor)\n",
        "\n",
        "def readcsv():\n",
        "    filename = \"ch02-data.csv\"\n",
        "    reader=pd.read_csv(filename)\n",
        "    row=len(reader)\n",
        "    conn=conndb()\n",
        "\n",
        "    for i in range(row):\n",
        "        sql = \"insert into ch02date(dates,numbers) value(%s,%s) \"\n",
        "        values=(reader['dates'][i],int(reader['numbers'][i]))\n",
        "        conn[1].execute(sql,values)\n",
        "        conn[0].commit()\n",
        "    conn[1].close()\n",
        "    conn[0].close()\n",
        "\n",
        "\n",
        "def SumByDate():\n",
        "    conn = conndb()\n",
        "    sql=\"select dates, sum(numbers) as total from ch02date group by dates\"\n",
        "    conn[1].execute(sql)\n",
        "    results=conn[1].fetchall()\n",
        "    conn[0].close()\n",
        "    conn[1].close()\n",
        "    return results\n",
        "\n",
        "def ExportToExcel(results):\n",
        "    dates = []\n",
        "    sum = []\n",
        "    for row in results:\n",
        "        dates.append(row[0])\n",
        "        sum.append(row[1])\n",
        "    head = {'dates': dates, 'sum': sum}\n",
        "    file_path = 'results.xlsx'\n",
        "    writer = pd.ExcelWriter(file_path)\n",
        "\n",
        "    df = pd.DataFrame(head)\n",
        "    df.to_excel(writer, columns=['dates', 'sum'], index=False, encoding='utf-8', sheet_name='results')\n",
        "    writer.save()\n",
        "\n",
        "results=SumByDate()\n",
        "ExportToExcel(results)\n"
      ],
      "execution_count": 0,
      "outputs": []
    },
    {
      "cell_type": "markdown",
      "metadata": {
        "id": "Ob2JmcCLMvy8",
        "colab_type": "text"
      },
      "source": [
        "**Q2：**\n",
        "There is an excel file named “catering_sale_all.xls”. It stores the sale situation of several kinds of food on one day. Write a function that can get the  best selling food(foodname and sales) by the specific day. Use any method which you may think is easy.\n"
      ]
    },
    {
      "cell_type": "code",
      "metadata": {
        "id": "gSVZYYodM3Zi",
        "colab_type": "code",
        "colab": {}
      },
      "source": [
        "import pandas as pd\n",
        "\n",
        "\n",
        "def getbestsale(saledate):\n",
        "    filename=\"catering_sale_all.xls\"\n",
        "    data=pd.read_excel(filename,sheet_name='Sheet1')\n",
        "    row=data.index\n",
        "    saledict={}\n",
        "    for i in row:\n",
        "        date=str(data['sale date'].at[i])\n",
        "        if date == saledate:\n",
        "            for j in range(len(data.keys())):\n",
        "                    if j>0:\n",
        "                        saledict[data.keys()[j]]=data[data.keys()[j]].at[i]\n",
        "    return saledict\n",
        "\n",
        "def getmax(saledict):\n",
        "    maxkey=max(saledict,key=saledict.get)\n",
        "    maxvalue=saledict[maxkey]\n",
        "    return (maxkey,maxvalue)\n",
        "\n",
        "saledict=getbestsale('2015-01-01 00:00:00')\n",
        "print(getmax(saledict))\n"
      ],
      "execution_count": 0,
      "outputs": []
    }
  ]
}