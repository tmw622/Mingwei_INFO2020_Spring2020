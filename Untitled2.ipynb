{
  "nbformat": 4,
  "nbformat_minor": 0,
  "metadata": {
    "colab": {
      "name": "Untitled2.ipynb",
      "provenance": [],
      "include_colab_link": true
    },
    "kernelspec": {
      "name": "python3",
      "display_name": "Python 3"
    }
  },
  "cells": [
    {
      "cell_type": "markdown",
      "metadata": {
        "id": "view-in-github",
        "colab_type": "text"
      },
      "source": [
        "<a href=\"https://colab.research.google.com/github/tmw622/Mingwei_INFO2020_Spring2020/blob/master/Untitled2.ipynb\" target=\"_parent\"><img src=\"https://colab.research.google.com/assets/colab-badge.svg\" alt=\"Open In Colab\"/></a>"
      ]
    },
    {
      "cell_type": "code",
      "metadata": {
        "id": "5gt8A-seQplo",
        "colab_type": "code",
        "colab": {}
      },
      "source": [
        ""
      ],
      "execution_count": 0,
      "outputs": []
    },
    {
      "cell_type": "markdown",
      "metadata": {
        "id": "Wm2mezDNROth",
        "colab_type": "text"
      },
      "source": [
        "Python是开源的，这意味着它是免费的。\n",
        "Python是一种胶水语言：\n",
        "Python使你的编码更加轻松\n",
        "Python平均来讲，比一些语言计算更快，比如Matlab\n",
        "Python有一个很大的程序员社区。 它带来了与大量的标准库和扩展包。\n",
        "Python广泛应用于各种行业（Google，NASA，对冲基金，银行等）。"
      ]
    },
    {
      "cell_type": "markdown",
      "metadata": {
        "id": "uhYh1vEPQ3sA",
        "colab_type": "text"
      },
      "source": [
        ""
      ]
    },
    {
      "cell_type": "markdown",
      "metadata": {
        "id": "QTULklfxQx34",
        "colab_type": "text"
      },
      "source": [
        ""
      ]
    }
  ]
}