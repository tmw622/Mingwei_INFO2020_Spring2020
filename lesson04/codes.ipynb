{
  "nbformat": 4,
  "nbformat_minor": 0,
  "metadata": {
    "colab": {
      "name": "Untitled0.ipynb",
      "provenance": [],
      "authorship_tag": "ABX9TyMfrZF68TV7OIyrvKk6NCzc",
      "include_colab_link": true
    },
    "kernelspec": {
      "name": "python3",
      "display_name": "Python 3"
    }
  },
  "cells": [
    {
      "cell_type": "markdown",
      "metadata": {
        "id": "view-in-github",
        "colab_type": "text"
      },
      "source": [
        "<a href=\"https://colab.research.google.com/github/tmw622/Mingwei_INFO2020_Spring2020/blob/master/lesson04/codes.ipynb\" target=\"_parent\"><img src=\"https://colab.research.google.com/assets/colab-badge.svg\" alt=\"Open In Colab\"/></a>"
      ]
    },
    {
      "cell_type": "code",
      "metadata": {
        "id": "3xStAphH_7w0",
        "colab_type": "code",
        "colab": {}
      },
      "source": [
        "import turtle\n",
        "\n",
        "def draw_square(animal,size):\n",
        "    for _ in range(4):\n",
        "        animal.forward(size)\n",
        "        animal.left(90)\n",
        "\n",
        "window = turtle.Screen()\n",
        "window.bgcolor(\"lightgreen\")\n",
        "window.title(\"Alex meets a function\")\n",
        "\n",
        "alex=turtle.Turtle()\n",
        "draw_square(alex,50)\n",
        "window.mainloop()"
      ],
      "execution_count": 0,
      "outputs": []
    },
    {
      "cell_type": "code",
      "metadata": {
        "id": "hXkxh3yK__q2",
        "colab_type": "code",
        "colab": {}
      },
      "source": [
        "import turtle\n",
        "\n",
        "def draw_multicolor_square(animal,size):\n",
        "    for color in [\"red\",\"purple\",\"hotpink\",\"blue\"]:\n",
        "        animal.color(color)\n",
        "        animal.forward(size)\n",
        "        animal.left(90)\n",
        "\n",
        "window=turtle.Screen()\n",
        "window.bgcolor(\"lightgreen\")\n",
        "\n",
        "tess=turtle.Turtle()\n",
        "tess.pensize(3)\n",
        "\n",
        "size=20\n",
        "\n",
        "for _ in range(15):\n",
        "    draw_multicolor_square(tess,size)\n",
        "    size+=10\n",
        "    tess.forward(10)\n",
        "    tess.right(18)\n",
        "\n",
        "window.mainloop()"
      ],
      "execution_count": 0,
      "outputs": []
    },
    {
      "cell_type": "code",
      "metadata": {
        "id": "Mjh-auH1AB21",
        "colab_type": "code",
        "colab": {}
      },
      "source": [
        "import turtle\n",
        "\n",
        "def draw_rectangle(animal,width,height):\n",
        "    for _ in range(2):\n",
        "        animal.forward(width)\n",
        "        animal.left(90)\n",
        "        animal.forward(height)\n",
        "        animal.left(90)\n",
        "\n",
        "def draw_square(animal,size):\n",
        "    draw_rectangle(animal,size,size)\n",
        "\n",
        "window=turtle.Screen()\n",
        "window.bgcolor(\"lightgreen\")\n",
        "\n",
        "tess=turtle.Turtle()\n",
        "tess.pensize(3)\n",
        "\n",
        "draw_square(tess,50)\n",
        "window.mainloop()\n"
      ],
      "execution_count": 0,
      "outputs": []
    },
    {
      "cell_type": "code",
      "metadata": {
        "id": "OKea8swVAQUl",
        "colab_type": "code",
        "colab": {}
      },
      "source": [
        "\n",
        "def final_amount(p,r,n,t):\n",
        "    a=p*(1+r/n)**(n*t)\n",
        "    return a\n",
        "\n",
        "toInvest=float(input(\"How much do you want to invest?\"))\n",
        "fnl=final_amount(toInvest,0.08,12,5)\n",
        "print(\"At the end of the period you will have \", fnl)\n"
      ],
      "execution_count": 0,
      "outputs": []
    },
    {
      "cell_type": "code",
      "metadata": {
        "id": "t6CL1pwYAvKm",
        "colab_type": "code",
        "colab": {}
      },
      "source": [
        "import math\n",
        "def distance(x1,y1,x2,y2):\n",
        "    deltaX=x2-x1\n",
        "    deltaY=y2-y1\n",
        "    return math.sqrt(deltaX**2+deltaY**2)\n",
        "\n",
        "print(distance(1,2,4,6))"
      ],
      "execution_count": 0,
      "outputs": []
    },
    {
      "cell_type": "code",
      "metadata": {
        "id": "I_QG4AbEAw62",
        "colab_type": "code",
        "colab": {}
      },
      "source": [
        "import math\n",
        "\n",
        "def distance(x1,y1,x2,y2):\n",
        "    deltaX=x2-x1\n",
        "    deltaY=y2-y1\n",
        "    return math.sqrt(deltaX**2+deltaY**2)\n",
        "\n",
        "def area(radius):\n",
        "    return 3.14159*radius**2\n",
        "\n",
        "def area_of_circle(x1,y1,x2,y2):\n",
        "    radius=distance(x1,y1,x2,y2)\n",
        "    result=area(radius)\n",
        "    return result\n",
        "\n",
        "print(area_of_circle(1,2,4,6))"
      ],
      "execution_count": 0,
      "outputs": []
    }
  ]
}