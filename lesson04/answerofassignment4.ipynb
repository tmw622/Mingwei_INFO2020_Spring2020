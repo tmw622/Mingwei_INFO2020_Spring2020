{
  "nbformat": 4,
  "nbformat_minor": 0,
  "metadata": {
    "colab": {
      "name": "Untitled2.ipynb",
      "provenance": [],
      "collapsed_sections": [],
      "toc_visible": true,
      "authorship_tag": "ABX9TyNlcn+Y4GSzNlvA8jybhLkP",
      "include_colab_link": true
    },
    "kernelspec": {
      "name": "python3",
      "display_name": "Python 3"
    }
  },
  "cells": [
    {
      "cell_type": "markdown",
      "metadata": {
        "id": "view-in-github",
        "colab_type": "text"
      },
      "source": [
        "<a href=\"https://colab.research.google.com/github/tmw622/Mingwei_INFO2020_Spring2020/blob/master/lesson04/answerofassignment4.ipynb\" target=\"_parent\"><img src=\"https://colab.research.google.com/assets/colab-badge.svg\" alt=\"Open In Colab\"/></a>"
      ]
    },
    {
      "cell_type": "markdown",
      "metadata": {
        "id": "myv_sanMrwLl",
        "colab_type": "text"
      },
      "source": [
        "Probleam 1: please check the link to draw a picture like the following figure.\n",
        "\n",
        "https://drive.google.com/file/d/19cLfmyXKTek60PsJYIcui9Kc6X7SJH2O/view?usp=sharing\n",
        "\n",
        "requirements:\n",
        "\n",
        "1:using turtle\n",
        "\n",
        "2:define your own function\n"
      ]
    },
    {
      "cell_type": "code",
      "metadata": {
        "id": "XY1vcC1_y4jW",
        "colab_type": "code",
        "colab": {}
      },
      "source": [
        "import turtle\n",
        "import math\n",
        "\n",
        "def draw_square(turtle,sidesize):  #draw a square by specified sidesize\n",
        "    for _ in range(4):\n",
        "        turtle.forward(sidesize)\n",
        "        turtle.left(90)\n",
        "\n",
        "def move_position(turtle):        # move to another point\n",
        "    anglestep=30\n",
        "    turtle.right(135)\n",
        "    turtle.penup()\n",
        "    turtle.forward(anglestep)\n",
        "    turtle.pendown()\n",
        "    turtle.left(135)\n",
        "\n",
        "def draw_clip(turtle,size):      # draw a clip by loop\n",
        "    for _ in range(5):\n",
        "        draw_square(turtle,size)\n",
        "        move_position(turtle)\n",
        "        size=size+2*math.sqrt(float(30**2/2))\n",
        "\n",
        "window=turtle.Screen()\n",
        "window.bgcolor(\"lightgreen\")\n",
        "clip=turtle.Turtle()\n",
        "clip.pencolor(\"Hot Pink\")\n",
        "clip.pensize(5)\n",
        "\n",
        "draw_clip(clip,50)\n",
        "\n",
        "window.mainloop()"
      ],
      "execution_count": 0,
      "outputs": []
    },
    {
      "cell_type": "markdown",
      "metadata": {
        "id": "gML5Ft0Hz4cO",
        "colab_type": "text"
      },
      "source": [
        "Probleam 1: please check the link to draw a picture like the following figure.\n",
        "\n",
        "https://drive.google.com/file/d/16aypgKc_KHRGpA-1Ahk__s9DdKBRMlaC/view?usp=sharing\n",
        "\n",
        "requirements:\n",
        "\n",
        "1:using turtle\n",
        "\n",
        "2:define your own function"
      ]
    },
    {
      "cell_type": "code",
      "metadata": {
        "id": "mXRICp_w1L8c",
        "colab_type": "code",
        "colab": {}
      },
      "source": [
        "import turtle\n",
        "\n",
        "def draw_maze(turtle,size,times):\n",
        "    maze.left(180)\n",
        "    for _ in range(times):\n",
        "        for _ in range(2):\n",
        "            maze.forward(size)\n",
        "            maze.right(90)\n",
        "        size=size+10\n",
        "\n",
        "window=turtle.Screen()\n",
        "window.bgcolor(\"lightgreen\")\n",
        "maze=turtle.Turtle()\n",
        "maze.pencolor(\"blue\")\n",
        "maze.pensize(3)\n",
        "draw_maze(maze,30,30)\n",
        "\n",
        "window.mainloop()"
      ],
      "execution_count": 0,
      "outputs": []
    },
    {
      "cell_type": "markdown",
      "metadata": {
        "id": "xPCfapm91gJ9",
        "colab_type": "text"
      },
      "source": [
        "Problem 3: Write a function which could return the filename’s extend name. \n",
        "\n",
        "It accepts one argument.\n",
        "\n",
        "If the argument is not a valid filename, it should return it is a invalid filename\n"
      ]
    },
    {
      "cell_type": "code",
      "metadata": {
        "id": "hClro-mG31eY",
        "colab_type": "code",
        "colab": {
          "base_uri": "https://localhost:8080/",
          "height": 68
        },
        "outputId": "32a7af64-63b9-42c6-8293-6e097c9eb4b1"
      },
      "source": [
        "def Get_Ext(filename):\n",
        "  if filename.find(\".\")==-1:\n",
        "    print(\"please provide a filename with extension \")\n",
        "  else:\n",
        "    namelist=filename.split(\".\")\n",
        "    size=len(namelist)\n",
        "    return namelist[size-1]\n",
        "\n",
        "Get_Ext(\"checktxt\")\n",
        "print(Get_Ext(\"check.txt\"))\n",
        "print(Get_Ext(\"check.txt.doc.java\"))\n"
      ],
      "execution_count": 72,
      "outputs": [
        {
          "output_type": "stream",
          "text": [
            "please provide a filename with extension \n",
            "txt\n",
            "java\n"
          ],
          "name": "stdout"
        }
      ]
    },
    {
      "cell_type": "markdown",
      "metadata": {
        "id": "bMwoGoBk5sZL",
        "colab_type": "text"
      },
      "source": [
        "Problem 4:Write a function replace(s, old, new) that replaces all occurrences of the old character with a new  character in a string s.\n",
        "\n",
        "requirement:\n",
        "\n",
        "1: don't use the built-in replace function of string\n",
        "\n",
        "2: just use character not phrase.\n"
      ]
    },
    {
      "cell_type": "code",
      "metadata": {
        "id": "-vOZW8BKAL6s",
        "colab_type": "code",
        "colab": {}
      },
      "source": [
        "def replace(s,old,new):\n",
        "    newword=\"\"\n",
        "    for letter in s:\n",
        "        if letter!=old:\n",
        "            newword=newword+letter\n",
        "        elif letter==old:\n",
        "            newword=newword+new\n",
        "    return newword"
      ],
      "execution_count": 0,
      "outputs": []
    },
    {
      "cell_type": "code",
      "metadata": {
        "id": "zJQdVnQoIzKt",
        "colab_type": "code",
        "colab": {
          "base_uri": "https://localhost:8080/",
          "height": 51
        },
        "outputId": "0d1a1dc7-6689-4488-edf6-837cbee4ec52"
      },
      "source": [
        "sentence=\"I love spom! Spom is my favorite food. Spom, spom, yum!\"\n",
        "print(replace(sentence,\"o\",\"a\"))\n",
        "\n",
        "words=\"Mississippi\"\n",
        "print(replace(words,\"s\",\"S\"))"
      ],
      "execution_count": 78,
      "outputs": [
        {
          "output_type": "stream",
          "text": [
            "I lave spam! Spam is my favarite faad. Spam, spam, yum!\n",
            "MiSSiSSippi\n"
          ],
          "name": "stdout"
        }
      ]
    }
  ]
}