{
  "nbformat": 4,
  "nbformat_minor": 0,
  "metadata": {
    "colab": {
      "name": "Untitled4.ipynb",
      "provenance": [],
      "authorship_tag": "ABX9TyOdEhHOMVEaNWa8U2ITGMNF",
      "include_colab_link": true
    },
    "kernelspec": {
      "name": "python3",
      "display_name": "Python 3"
    }
  },
  "cells": [
    {
      "cell_type": "markdown",
      "metadata": {
        "id": "view-in-github",
        "colab_type": "text"
      },
      "source": [
        "<a href=\"https://colab.research.google.com/github/tmw622/Mingwei_INFO2020_Spring2020/blob/master/lesson1/demo.ipynb\" target=\"_parent\"><img src=\"https://colab.research.google.com/assets/colab-badge.svg\" alt=\"Open In Colab\"/></a>"
      ]
    },
    {
      "cell_type": "code",
      "metadata": {
        "id": "Sx9WHUACNqXi",
        "colab_type": "code",
        "colab": {}
      },
      "source": [
        "pip install tweepy"
      ],
      "execution_count": 0,
      "outputs": []
    },
    {
      "cell_type": "code",
      "metadata": {
        "id": "eb4IbbTcOQLu",
        "colab_type": "code",
        "colab": {}
      },
      "source": [
        "pip install wget"
      ],
      "execution_count": 0,
      "outputs": []
    },
    {
      "cell_type": "code",
      "metadata": {
        "id": "bLvnzUA-ODNM",
        "colab_type": "code",
        "colab": {}
      },
      "source": [
        "import tweepy\n",
        "from tweepy import OAuthHandler\n",
        "import json\n",
        "import wget\n",
        "\n",
        "#Twitter Authentication\n",
        "\n",
        "consumer_key = \"u7L1lnR7HN85dn1qnTFO1cegb\"\n",
        "consumer_secret = 'QN1JrEmit2To46ZcwWAT4aI5QGWZXWRDDUPnMCWV5M66SFc8wT'\n",
        "access_token = '1144377060036620294-BSEicX3zH7hIhksbNZV9mrWFwa07cO'\n",
        "access_secret = 'gxWMOodDq1nQAjix9mHEOUSAtgE7XH5ctHInm0XRslJce'\n",
        "\n",
        "auth = OAuthHandler(consumer_key, consumer_secret)\n",
        "auth.set_access_token(access_token, access_secret)\n",
        "\n",
        "  #Creating tweepy api\n",
        "api = tweepy.API(auth)\n",
        "hashtag = input('Enter the hashtag you want to scrape- ')\n",
        "user = input(\"Enter twitter screen_name - \")\n",
        "for status in tweepy.Cursor(api.search, q=hashtag).items(500):\n",
        "    try:\n",
        "       for media in status.extended_entities['media']:\n",
        "          print(media['media_url'])\n",
        "    except AttributeError:\n",
        "          pass\n"
      ],
      "execution_count": 0,
      "outputs": []
    }
  ]
}