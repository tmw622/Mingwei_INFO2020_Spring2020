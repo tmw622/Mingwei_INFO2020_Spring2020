{
  "nbformat": 4,
  "nbformat_minor": 0,
  "metadata": {
    "colab": {
      "name": "Copy of Copy of Untitled5.ipynb",
      "provenance": [],
      "collapsed_sections": [],
      "authorship_tag": "ABX9TyNQsohthR+SIkjAw/DkITX/",
      "include_colab_link": true
    },
    "kernelspec": {
      "name": "python3",
      "display_name": "Python 3"
    }
  },
  "cells": [
    {
      "cell_type": "markdown",
      "metadata": {
        "id": "view-in-github",
        "colab_type": "text"
      },
      "source": [
        "<a href=\"https://colab.research.google.com/github/tmw622/Mingwei_INFO2020_Spring2020/blob/master/lesson06/codes.ipynb\" target=\"_parent\"><img src=\"https://colab.research.google.com/assets/colab-badge.svg\" alt=\"Open In Colab\"/></a>"
      ]
    },
    {
      "cell_type": "code",
      "metadata": {
        "id": "JXh74EUh1X-j",
        "colab_type": "code",
        "outputId": "32dc5759-bea2-4b34-99e9-10f76e668cd0",
        "colab": {
          "base_uri": "https://localhost:8080/",
          "height": 70
        }
      },
      "source": [
        "import numpy as np\n",
        "a=np.array([2,3,8])\n",
        "print(2.1*a)\n",
        "b=[2,3,8]\n",
        "print(2*b)\n",
        "\n",
        "print(np.dot(a,a))\n"
      ],
      "execution_count": 0,
      "outputs": [
        {
          "output_type": "stream",
          "text": [
            "[ 4.2  6.3 16.8]\n",
            "[2, 3, 8, 2, 3, 8]\n",
            "77\n"
          ],
          "name": "stdout"
        }
      ]
    },
    {
      "cell_type": "code",
      "metadata": {
        "id": "KPvqon_c2uP0",
        "colab_type": "code",
        "outputId": "d05678dd-2460-4348-863f-a4b7be3b22bd",
        "colab": {
          "base_uri": "https://localhost:8080/",
          "height": 87
        }
      },
      "source": [
        "b=np.array([[2,3,8],[4,5,6]])\n",
        "print(b[1,2])\n",
        "print(b[1][2])\n",
        "\n",
        "print(b[:,1])\n",
        "print(b[:][1])"
      ],
      "execution_count": 0,
      "outputs": [
        {
          "output_type": "stream",
          "text": [
            "6\n",
            "6\n",
            "[3 5]\n",
            "[4 5 6]\n"
          ],
          "name": "stdout"
        }
      ]
    },
    {
      "cell_type": "code",
      "metadata": {
        "id": "v_I3W4Ha3ank",
        "colab_type": "code",
        "outputId": "44bd9320-d38b-4014-d207-fe2e6200f975",
        "colab": {
          "base_uri": "https://localhost:8080/",
          "height": 52
        }
      },
      "source": [
        "a=np.array([230,10,284,39,76])\n",
        "cutoff=200\n",
        "print(a>cutoff)\n",
        "\n",
        "a[a<cutoff]=0\n",
        "print(a)"
      ],
      "execution_count": 0,
      "outputs": [
        {
          "output_type": "stream",
          "text": [
            "[ True False  True False False]\n",
            "[230   0 284   0   0]\n"
          ],
          "name": "stdout"
        }
      ]
    },
    {
      "cell_type": "code",
      "metadata": {
        "id": "R08J76TF4NW1",
        "colab_type": "code",
        "outputId": "9acd182e-3668-4035-d6d8-82b5348f8b82",
        "colab": {
          "base_uri": "https://localhost:8080/",
          "height": 256
        }
      },
      "source": [
        "import numpy as np\n",
        "a=np.array([[0,1],[2,3],[4,5]])\n",
        "b=np.array([10,100])\n",
        "print(a*b)\n",
        "\n",
        "c=np.array([[0,1,2],[3,4,5]])\n",
        "print(c*b)"
      ],
      "execution_count": 0,
      "outputs": [
        {
          "output_type": "stream",
          "text": [
            "[[  0 100]\n",
            " [ 20 300]\n",
            " [ 40 500]]\n"
          ],
          "name": "stdout"
        },
        {
          "output_type": "error",
          "ename": "ValueError",
          "evalue": "ignored",
          "traceback": [
            "\u001b[0;31m---------------------------------------------------------------------------\u001b[0m",
            "\u001b[0;31mValueError\u001b[0m                                Traceback (most recent call last)",
            "\u001b[0;32m<ipython-input-14-f2b10d0e6f77>\u001b[0m in \u001b[0;36m<module>\u001b[0;34m()\u001b[0m\n\u001b[1;32m      5\u001b[0m \u001b[0;34m\u001b[0m\u001b[0m\n\u001b[1;32m      6\u001b[0m \u001b[0mc\u001b[0m\u001b[0;34m=\u001b[0m\u001b[0mnp\u001b[0m\u001b[0;34m.\u001b[0m\u001b[0marray\u001b[0m\u001b[0;34m(\u001b[0m\u001b[0;34m[\u001b[0m\u001b[0;34m[\u001b[0m\u001b[0;36m0\u001b[0m\u001b[0;34m,\u001b[0m\u001b[0;36m1\u001b[0m\u001b[0;34m,\u001b[0m\u001b[0;36m2\u001b[0m\u001b[0;34m]\u001b[0m\u001b[0;34m,\u001b[0m\u001b[0;34m[\u001b[0m\u001b[0;36m3\u001b[0m\u001b[0;34m,\u001b[0m\u001b[0;36m4\u001b[0m\u001b[0;34m,\u001b[0m\u001b[0;36m5\u001b[0m\u001b[0;34m]\u001b[0m\u001b[0;34m]\u001b[0m\u001b[0;34m)\u001b[0m\u001b[0;34m\u001b[0m\u001b[0;34m\u001b[0m\u001b[0m\n\u001b[0;32m----> 7\u001b[0;31m \u001b[0mprint\u001b[0m\u001b[0;34m(\u001b[0m\u001b[0mc\u001b[0m\u001b[0;34m*\u001b[0m\u001b[0mb\u001b[0m\u001b[0;34m)\u001b[0m\u001b[0;34m\u001b[0m\u001b[0;34m\u001b[0m\u001b[0m\n\u001b[0m",
            "\u001b[0;31mValueError\u001b[0m: operands could not be broadcast together with shapes (2,3) (2,) "
          ]
        }
      ]
    },
    {
      "cell_type": "code",
      "metadata": {
        "id": "DEIlTTGW4slM",
        "colab_type": "code",
        "colab": {}
      },
      "source": [
        "with open(\"test.txt\",\"w\") as myfile:\n",
        "  myfile.write(\"My First file written from python\\n\")\n",
        "  myfile.write(\"----------------------------------\\n\")\n",
        "  myfile.write(\"Hello World!\\n\")"
      ],
      "execution_count": 0,
      "outputs": []
    },
    {
      "cell_type": "code",
      "metadata": {
        "id": "rWkcvwIsBGLb",
        "colab_type": "code",
        "outputId": "bc6fbb44-d130-4aeb-d16c-5efa042c8c49",
        "colab": {
          "base_uri": "https://localhost:8080/",
          "height": 70
        }
      },
      "source": [
        "import random\n",
        "rng=random.Random()\n",
        "dice_throw=rng.randrange(1,7)\n",
        "delay_in_seconds=rng.random()\n",
        "random_odd=rng.randrange(1,100,2)\n",
        "\n",
        "print(dice_throw)\n",
        "print(delay_in_seconds)\n",
        "print(random_odd)"
      ],
      "execution_count": 0,
      "outputs": [
        {
          "output_type": "stream",
          "text": [
            "5\n",
            "0.609507828326317\n",
            "91\n"
          ],
          "name": "stdout"
        }
      ]
    },
    {
      "cell_type": "code",
      "metadata": {
        "id": "K5rQpMfmBww6",
        "colab_type": "code",
        "outputId": "2f8b0cbe-30b0-4f69-8a74-c9e32bd99174",
        "colab": {
          "base_uri": "https://localhost:8080/",
          "height": 72
        }
      },
      "source": [
        "cards=list(range(52))\n",
        "print(cards)\n",
        "rng.shuffle(cards)\n",
        "print(cards)"
      ],
      "execution_count": 0,
      "outputs": [
        {
          "output_type": "stream",
          "text": [
            "[0, 1, 2, 3, 4, 5, 6, 7, 8, 9, 10, 11, 12, 13, 14, 15, 16, 17, 18, 19, 20, 21, 22, 23, 24, 25, 26, 27, 28, 29, 30, 31, 32, 33, 34, 35, 36, 37, 38, 39, 40, 41, 42, 43, 44, 45, 46, 47, 48, 49, 50, 51]\n",
            "[28, 22, 16, 3, 33, 50, 8, 37, 36, 4, 13, 18, 12, 42, 5, 47, 19, 23, 2, 21, 9, 32, 11, 31, 1, 7, 17, 34, 49, 30, 38, 0, 39, 48, 25, 29, 40, 51, 43, 26, 24, 41, 46, 27, 45, 44, 10, 35, 14, 6, 20, 15]\n"
          ],
          "name": "stdout"
        }
      ]
    },
    {
      "cell_type": "code",
      "metadata": {
        "id": "VXUIJ_xTChQa",
        "colab_type": "code",
        "outputId": "33efeb19-5dd5-484d-f02d-7f4e50991cb9",
        "colab": {
          "base_uri": "https://localhost:8080/",
          "height": 34
        }
      },
      "source": [
        "import time\n",
        "def do_my_sum(xs):\n",
        "  sum=0\n",
        "  for v in xs:\n",
        "    sum+=v\n",
        "  return sum\n",
        "\n",
        "sz=1000000\n",
        "testdata=range(sz)\n",
        "\n",
        "t0=time.process_time()\n",
        "myresult=do_my_sum(testdata)\n",
        "t1=time.process_time()\n",
        "\n",
        "print(\"myresult={0} (time taken={1:.4f} seconds)\".format(myresult,t1-t0))\n"
      ],
      "execution_count": 0,
      "outputs": [
        {
          "output_type": "stream",
          "text": [
            "myresult=499999500000 (time taken=0.0664 seconds)\n"
          ],
          "name": "stdout"
        }
      ]
    },
    {
      "cell_type": "code",
      "metadata": {
        "id": "zBE6OtOsFiBK",
        "colab_type": "code",
        "colab": {}
      },
      "source": [
        "def remove_at(pos,seq):\n",
        "    return seq[:pos]+seq[pos+1:]"
      ],
      "execution_count": 0,
      "outputs": []
    },
    {
      "cell_type": "code",
      "metadata": {
        "id": "l5Iqf2AEFnVo",
        "colab_type": "code",
        "colab": {}
      },
      "source": [
        "import urllib.request\n",
        "\n",
        "url=\"http://www.baidu.com\"\n",
        "destination_filename=\"baidu.txt\"\n",
        "urllib.request.urlretrieve(url,destination_filename)"
      ],
      "execution_count": 0,
      "outputs": []
    },
    {
      "cell_type": "code",
      "metadata": {
        "id": "_q4ypBkHFsMB",
        "colab_type": "code",
        "colab": {}
      },
      "source": [
        "import seqtools\n",
        "import module1\n",
        "\n",
        "s=\"A string!\"\n",
        "print(seqtools.remove_at(4,s))\n",
        "\n",
        "print(module1.question)"
      ],
      "execution_count": 0,
      "outputs": []
    },
    {
      "cell_type": "code",
      "metadata": {
        "id": "ZFt9XqSHFuzI",
        "colab_type": "code",
        "colab": {}
      },
      "source": [
        "with open(\"files/test.txt\", \"w\") as myfile:\n",
        "  myfile.write(\"My First file written from python\\n\")\n",
        "  myfile.write(\"----------------------------------\\n\")\n",
        "  myfile.write(\"Hello World!\\n\")"
      ],
      "execution_count": 0,
      "outputs": []
    }
  ]
}