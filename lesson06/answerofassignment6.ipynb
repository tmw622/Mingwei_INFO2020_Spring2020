{
  "nbformat": 4,
  "nbformat_minor": 0,
  "metadata": {
    "colab": {
      "name": "Untitled7.ipynb",
      "provenance": [],
      "authorship_tag": "ABX9TyPp3td+xfXQyJKJn6YmL7Vv",
      "include_colab_link": true
    },
    "kernelspec": {
      "name": "python3",
      "display_name": "Python 3"
    }
  },
  "cells": [
    {
      "cell_type": "markdown",
      "metadata": {
        "id": "view-in-github",
        "colab_type": "text"
      },
      "source": [
        "<a href=\"https://colab.research.google.com/github/tmw622/Mingwei_INFO2020_Spring2020/blob/master/lesson06/answerofassignment6.ipynb\" target=\"_parent\"><img src=\"https://colab.research.google.com/assets/colab-badge.svg\" alt=\"Open In Colab\"/></a>"
      ]
    },
    {
      "cell_type": "markdown",
      "metadata": {
        "id": "2fc6jKk-aSB2",
        "colab_type": "text"
      },
      "source": [
        "**Q1：**write a function to write a several numbers in one line(at least 10 numbers) into  a txt file. Then write another function to read the several numbers and turn them into an array, and use a mask to set all values above 100(half of your number should exceed over 100) to be 100 and store the result into another txt file.\n",
        "\n",
        "Tips: map(int,list) could turn a string list to a int list.\n"
      ]
    },
    {
      "cell_type": "code",
      "metadata": {
        "id": "tLRvf6vvaN1t",
        "colab_type": "code",
        "colab": {}
      },
      "source": [
        "import numpy as np\n",
        "\n",
        "def writenum():\n",
        "    numlist=\"120,100,30,22,390,30,20,89,300,400\"\n",
        "    with open(\"numlist.txt\",\"w\") as numfile:\n",
        "        numfile.write(numlist)\n",
        "    numfile.close()\n",
        "\n",
        "def calcnum():\n",
        "    intlist=[]\n",
        "    with open(\"numlist.txt\",\"r\") as numfile:\n",
        "        numlist=numfile.read()\n",
        "        intlist=list(map(int, numlist.split(\",\")))\n",
        "    numfile.close()\n",
        "\n",
        "    arraylist=np.array(intlist)\n",
        "    arraylist[arraylist>100]=100\n",
        "\n",
        "    with open(\"resultlist.txt\",\"w\") as resfile:\n",
        "        resfile.write(str(arraylist))\n",
        "    resfile.close()\n",
        "\n",
        "writenum()\n",
        "calcnum()"
      ],
      "execution_count": 0,
      "outputs": []
    },
    {
      "cell_type": "markdown",
      "metadata": {
        "id": "AVWJBZT4az1L",
        "colab_type": "text"
      },
      "source": [
        "**Q2：**Use tuple to design a  student list which at least has the structure of student id and student name, write a function to write all the students into a txt file and one line for one student\n",
        "You should store at least 10 students. The student id and name can be set by yourself. Then write another function to read the txt file and can get the student(with id and name) randomly. It looks like random roll call in a class.\n"
      ]
    },
    {
      "cell_type": "code",
      "metadata": {
        "id": "8fndwJZAa7U6",
        "colab_type": "code",
        "colab": {
          "base_uri": "https://localhost:8080/",
          "height": 34
        },
        "outputId": "d0a3372c-d699-4d8b-e6f1-34dee692f3a0"
      },
      "source": [
        "import random\n",
        "\n",
        "studentlist=(\n",
        "               (\"1001\",\"John\"),(\"1002\",\"Alice\"),(\"1003\",\"Elysa\"),(\"1004\",\"Julia\"),(\"1005\",\"Ben\"),\n",
        "               (\"1006\",\"Jack\"),(\"1007\",\"Benny\"),(\"1008\",\"Jenny\"),(\"1009\",\"Tom\"),(\"1010\",\"tommy\")\n",
        "             )\n",
        "\n",
        "def writestulist():\n",
        "    with open(\"studentlist.txt\",\"w\") as wfile:\n",
        "        for stuid,stuname in studentlist:\n",
        "            student=stuid+\",\"+stuname+\"#\"\n",
        "            wfile.write(student)\n",
        "    wfile.close()\n",
        "\n",
        "def rollcall():\n",
        "    with open(\"studentlist.txt\",\"r\") as rfile:\n",
        "        rng=random.Random()\n",
        "        pos=rng.randrange(0,10)\n",
        "        stulist=rfile.read()\n",
        "        stulist=stulist.split(\"#\")\n",
        "        print(stulist[pos])\n",
        "\n",
        "writestulist()\n",
        "rollcall()"
      ],
      "execution_count": 5,
      "outputs": [
        {
          "output_type": "stream",
          "text": [
            "1001,John\n"
          ],
          "name": "stdout"
        }
      ]
    }
  ]
}