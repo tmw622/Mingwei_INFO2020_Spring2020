{
  "nbformat": 4,
  "nbformat_minor": 0,
  "metadata": {
    "colab": {
      "name": "Untitled14.ipynb",
      "provenance": [],
      "authorship_tag": "ABX9TyPqnA+Fu8HOoK1kG+tr55kD",
      "include_colab_link": true
    },
    "kernelspec": {
      "name": "python3",
      "display_name": "Python 3"
    }
  },
  "cells": [
    {
      "cell_type": "markdown",
      "metadata": {
        "id": "view-in-github",
        "colab_type": "text"
      },
      "source": [
        "<a href=\"https://colab.research.google.com/github/tmw622/Mingwei_INFO2020_Spring2020/blob/master/lesson09/lessoncodes.ipynb\" target=\"_parent\"><img src=\"https://colab.research.google.com/assets/colab-badge.svg\" alt=\"Open In Colab\"/></a>"
      ]
    },
    {
      "cell_type": "code",
      "metadata": {
        "id": "I4ZO5j3j4Qbl",
        "colab_type": "code",
        "colab": {}
      },
      "source": [
        "filename=input(\"please input a filename: \")\n",
        "\n",
        "try:\n",
        "    f=open(filename,\"r\")\n",
        "except FileNotFoundError:\n",
        "    print(\"There is no such file \",filename)\n"
      ],
      "execution_count": 0,
      "outputs": []
    },
    {
      "cell_type": "code",
      "metadata": {
        "id": "LllmznTK4Seb",
        "colab_type": "code",
        "colab": {}
      },
      "source": [
        "def get_age():\n",
        "    age=int(input(\"Please input your age: \"))\n",
        "    if age<0:\n",
        "        myerror=ValueError(\"{0} is not a valid age\".format(age))\n",
        "        raise myerror\n",
        "    return age\n",
        "\n",
        "try:\n",
        "    print(get_age())\n",
        "except ValueError:\n",
        "    print(\"this is not a valid age\")\n",
        "\n"
      ],
      "execution_count": 0,
      "outputs": []
    },
    {
      "cell_type": "code",
      "metadata": {
        "id": "zTDr_vfZ4WvQ",
        "colab_type": "code",
        "colab": {}
      },
      "source": [
        "import turtle\n",
        "import time\n",
        "\n",
        "def show_ploy():\n",
        "    try:\n",
        "        win=turtle.Screen()\n",
        "        tess=turtle.Turtle()\n",
        "\n",
        "        n=int(input(\"How many sides do you want in your poly?\"))\n",
        "        angle=360/n\n",
        "\n",
        "        for i in range(n):\n",
        "            tess.forward(10)\n",
        "            tess.left(angle)\n",
        "        time.sleep(3)\n",
        "\n",
        "    finally:\n",
        "        print(\"bye1\")\n",
        "        win.bye()\n",
        "        print(\"bye2\")\n",
        "\n",
        "show_ploy()\n"
      ],
      "execution_count": 0,
      "outputs": []
    }
  ]
}