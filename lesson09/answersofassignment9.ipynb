{
  "nbformat": 4,
  "nbformat_minor": 0,
  "metadata": {
    "colab": {
      "name": "Untitled15.ipynb",
      "provenance": [],
      "collapsed_sections": [],
      "authorship_tag": "ABX9TyO11AOWHieixo6D0rmvudPX",
      "include_colab_link": true
    },
    "kernelspec": {
      "name": "python3",
      "display_name": "Python 3"
    }
  },
  "cells": [
    {
      "cell_type": "markdown",
      "metadata": {
        "id": "view-in-github",
        "colab_type": "text"
      },
      "source": [
        "<a href=\"https://colab.research.google.com/github/tmw622/Mingwei_INFO2020_Spring2020/blob/master/lesson09/answersofassignment9.ipynb\" target=\"_parent\"><img src=\"https://colab.research.google.com/assets/colab-badge.svg\" alt=\"Open In Colab\"/></a>"
      ]
    },
    {
      "cell_type": "markdown",
      "metadata": {
        "id": "ZNbscwKhuVzT",
        "colab_type": "text"
      },
      "source": [
        "**Q1:**write a method of MyTime, which can return the approximately interval minutes of any two time. The result should be int. It accepts a “MyTime” object  as an argument which is need to be compared with the ”MyTime” object who invoke the method. "
      ]
    },
    {
      "cell_type": "code",
      "metadata": {
        "id": "CqxsRYt-dEpP",
        "colab_type": "code",
        "colab": {
          "base_uri": "https://localhost:8080/",
          "height": 51
        },
        "outputId": "383a3685-aba5-4d2a-c4f7-420d987044a8"
      },
      "source": [
        "import math\n",
        "\n",
        "class Mytime:\n",
        "\tdef __init__(self,hrs=0,mins=0,secs=0):\n",
        "\t\ttotalsecs=hrs*3600+mins*60+secs\n",
        "\t\tself.hours=totalsecs//3600\n",
        "\t\tleftoversecs=totalsecs % 3600\n",
        "\t\tself.minutes=leftoversecs // 60\n",
        "\t\tself.seconds=leftoversecs % 60\n",
        "\n",
        "\tdef to_seconds(self):\n",
        "\t\treturn self.hours*3600+self.minutes*60+self.seconds\n",
        "\n",
        "\tdef comparetime(self,timeobject):\n",
        "\t\ttime1=self.to_seconds()\n",
        "\t\ttime2=timeobject.to_seconds()\n",
        "\n",
        "\t\tintervalsecs = math.fabs(time1-time2)\n",
        "\t\tprint(intervalsecs)\n",
        "\t\tintervalmins=0\n",
        "\n",
        "\t\twhile intervalsecs>0:\n",
        "\t\t\tintervalsecs-=60\n",
        "\t\t\tintervalmins+=1\n",
        "\t\treturn intervalmins\n",
        "\n",
        "time1=Mytime(11,20,43)\n",
        "time2=Mytime(10,20,30)\n",
        "print(\"the interval minutes are about:\",time1.comparetime(time2))\n"
      ],
      "execution_count": 3,
      "outputs": [
        {
          "output_type": "stream",
          "text": [
            "3613.0\n",
            "the interval minutes are about: 61\n"
          ],
          "name": "stdout"
        }
      ]
    },
    {
      "cell_type": "markdown",
      "metadata": {
        "id": "Y4DeaYXSuk8O",
        "colab_type": "text"
      },
      "source": [
        "**Q2:**Modify cmp so that Aces are ranked higher than Kings"
      ]
    },
    {
      "cell_type": "code",
      "metadata": {
        "id": "vAyf0q8bmMBv",
        "colab_type": "code",
        "colab": {
          "base_uri": "https://localhost:8080/",
          "height": 85
        },
        "outputId": "932dd227-02e9-4ddf-b834-11a0aed2509f"
      },
      "source": [
        "class Card:\n",
        "  suits=[\"Clubs\",\"Diamonds\",\"Hearts\",\"Spades\"]\n",
        "  ranks=[\"narf\",\"Ace\",\"2\",\"3\",\"4\",\"5\",\"6\",\"7\",\"8\",\"9\",\"10\",\"Jack\",\"Queen\",\"King\"]\n",
        "\n",
        "\n",
        "  def __init__(self,suit=0,rank=0):\n",
        "    self.suit=suit\n",
        "    self.rank=rank\n",
        "\n",
        "  def __str__(self):\n",
        "    return (self.ranks[self.rank]+\" of \"+self.suits[self.suit])\n",
        "\n",
        "  def cmp(self,other):\n",
        "    if self.suit>other.suit:return 1\n",
        "    if self.suit<other.suit:return -1\n",
        "\n",
        "    if self.ranks[self.rank]==\"Ace\":\n",
        "        print(self.ranks[self.rank])\n",
        "        self.rank=14\n",
        "\n",
        "    if other.ranks[other.rank]==\"Ace\":\n",
        "        print(other.ranks[other.rank])\n",
        "        other.rank=14\n",
        "\n",
        "    if self.rank>other.rank: return 1\n",
        "\n",
        "    if self.rank<other.rank: return -1\n",
        "    return 0\n",
        "\n",
        "\n",
        "  def __eq__(self,other):\n",
        "    return self.cmp(other)==0\n",
        "\n",
        "  def __le__(self,other):\n",
        "    return self.cmp(other)<=0\n",
        "\n",
        "  def __ge__(self,other):\n",
        "    return self.cmp(other)>=0\n",
        "\n",
        "  def __gt__(self,other):\n",
        "    return self.cmp(other)>0\n",
        "\n",
        "  def __lt__(self,other):\n",
        "    return self.cmp(other)<0\n",
        "\n",
        "  def __ne__(self,other):\n",
        "    return self.cmp(other)!=0\n",
        "\n",
        "card1=Card(1,1)\n",
        "print(\"card1:\",card1)\n",
        "\n",
        "card2=Card(1,13)\n",
        "print(\"card2:\",card2)\n",
        "print(card1>card2)\n",
        "\n"
      ],
      "execution_count": 4,
      "outputs": [
        {
          "output_type": "stream",
          "text": [
            "card1: Ace of Diamonds\n",
            "card2: King of Diamonds\n",
            "Ace\n",
            "True\n"
          ],
          "name": "stdout"
        }
      ]
    },
    {
      "cell_type": "markdown",
      "metadata": {
        "id": "InBgnIaOutEJ",
        "colab_type": "text"
      },
      "source": [
        "**Q3:**Write a function named readposint that uses the input dialog to prompt the user for a postive integer and then checks the input to confirm that it meets the requirements. It should be able to handle inputs that cannot be converted to int, as well as a negative int.\n",
        "\n",
        "(1)try to catch the convert error\n",
        "\n",
        "(2)Raise your own exception when the value is negative."
      ]
    },
    {
      "cell_type": "code",
      "metadata": {
        "id": "QpRWKReimoRU",
        "colab_type": "code",
        "colab": {
          "base_uri": "https://localhost:8080/",
          "height": 436
        },
        "outputId": "33252709-bf05-403a-dd24-660a6750f88e"
      },
      "source": [
        "readposint=input(\"please input a int number:\")\n",
        "try:\n",
        "  readposint=int(readposint) \n",
        "except ValueError:\n",
        "  readposint=int(input(\"input is valid,please input a positive int number:\"))\n",
        "  if readposint<0:\n",
        "    my_error=ValueError(\"{0} is not a positive number \".format(readposint))\n",
        "    raise my_error\n",
        "\n",
        "try:\n",
        "  print(readposint)\n",
        "except my_error:\n",
        "  print(my_error)\n"
      ],
      "execution_count": 13,
      "outputs": [
        {
          "output_type": "stream",
          "text": [
            "please input a int number:ddd\n",
            "input is valid,please input a positive int number:-10\n"
          ],
          "name": "stdout"
        },
        {
          "output_type": "error",
          "ename": "ValueError",
          "evalue": "ignored",
          "traceback": [
            "\u001b[0;31m---------------------------------------------------------------------------\u001b[0m",
            "\u001b[0;31mValueError\u001b[0m                                Traceback (most recent call last)",
            "\u001b[0;32m<ipython-input-13-97636beb6c9f>\u001b[0m in \u001b[0;36m<module>\u001b[0;34m()\u001b[0m\n\u001b[1;32m      2\u001b[0m \u001b[0;32mtry\u001b[0m\u001b[0;34m:\u001b[0m\u001b[0;34m\u001b[0m\u001b[0;34m\u001b[0m\u001b[0m\n\u001b[0;32m----> 3\u001b[0;31m   \u001b[0mreadposint\u001b[0m\u001b[0;34m=\u001b[0m\u001b[0mint\u001b[0m\u001b[0;34m(\u001b[0m\u001b[0mreadposint\u001b[0m\u001b[0;34m)\u001b[0m\u001b[0;34m\u001b[0m\u001b[0;34m\u001b[0m\u001b[0m\n\u001b[0m\u001b[1;32m      4\u001b[0m \u001b[0;32mexcept\u001b[0m \u001b[0mValueError\u001b[0m\u001b[0;34m:\u001b[0m\u001b[0;34m\u001b[0m\u001b[0;34m\u001b[0m\u001b[0m\n",
            "\u001b[0;31mValueError\u001b[0m: invalid literal for int() with base 10: 'ddd'",
            "\nDuring handling of the above exception, another exception occurred:\n",
            "\u001b[0;31mValueError\u001b[0m                                Traceback (most recent call last)",
            "\u001b[0;32m<ipython-input-13-97636beb6c9f>\u001b[0m in \u001b[0;36m<module>\u001b[0;34m()\u001b[0m\n\u001b[1;32m      6\u001b[0m   \u001b[0;32mif\u001b[0m \u001b[0mreadposint\u001b[0m\u001b[0;34m<\u001b[0m\u001b[0;36m0\u001b[0m\u001b[0;34m:\u001b[0m\u001b[0;34m\u001b[0m\u001b[0;34m\u001b[0m\u001b[0m\n\u001b[1;32m      7\u001b[0m     \u001b[0mmy_error\u001b[0m\u001b[0;34m=\u001b[0m\u001b[0mValueError\u001b[0m\u001b[0;34m(\u001b[0m\u001b[0;34m\"{0} is not a positive number \"\u001b[0m\u001b[0;34m.\u001b[0m\u001b[0mformat\u001b[0m\u001b[0;34m(\u001b[0m\u001b[0mreadposint\u001b[0m\u001b[0;34m)\u001b[0m\u001b[0;34m)\u001b[0m\u001b[0;34m\u001b[0m\u001b[0;34m\u001b[0m\u001b[0m\n\u001b[0;32m----> 8\u001b[0;31m     \u001b[0;32mraise\u001b[0m \u001b[0mmy_error\u001b[0m\u001b[0;34m\u001b[0m\u001b[0;34m\u001b[0m\u001b[0m\n\u001b[0m\u001b[1;32m      9\u001b[0m \u001b[0;34m\u001b[0m\u001b[0m\n\u001b[1;32m     10\u001b[0m \u001b[0;32mtry\u001b[0m\u001b[0;34m:\u001b[0m\u001b[0;34m\u001b[0m\u001b[0;34m\u001b[0m\u001b[0m\n",
            "\u001b[0;31mValueError\u001b[0m: -10 is not a positive number "
          ]
        }
      ]
    }
  ]
}