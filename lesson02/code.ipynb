{
  "nbformat": 4,
  "nbformat_minor": 0,
  "metadata": {
    "colab": {
      "name": "Untitled7.ipynb",
      "provenance": [],
      "collapsed_sections": [],
      "authorship_tag": "ABX9TyPi0oIT0eVFCcrb0R/U0InZ",
      "include_colab_link": true
    },
    "kernelspec": {
      "name": "python3",
      "display_name": "Python 3"
    }
  },
  "cells": [
    {
      "cell_type": "markdown",
      "metadata": {
        "id": "view-in-github",
        "colab_type": "text"
      },
      "source": [
        "<a href=\"https://colab.research.google.com/github/tmw622/Mingwei_INFO2020_Spring2020/blob/master/lesson02/code.ipynb\" target=\"_parent\"><img src=\"https://colab.research.google.com/assets/colab-badge.svg\" alt=\"Open In Colab\"/></a>"
      ]
    },
    {
      "cell_type": "code",
      "metadata": {
        "id": "6zcnZVzXmChD",
        "colab_type": "code",
        "colab": {
          "base_uri": "https://localhost:8080/",
          "height": 51
        },
        "outputId": "d6c0db1b-5bf0-412d-c9f0-a9de38ac5239"
      },
      "source": [
        "#this is my first python program\n",
        "print(\"hello world!\") # it is so easy, isn't it?\n",
        "message=\"hello unt\"\n",
        "print(len(message))"
      ],
      "execution_count": 2,
      "outputs": [
        {
          "output_type": "stream",
          "text": [
            "hello world!\n",
            "9\n"
          ],
          "name": "stdout"
        }
      ]
    },
    {
      "cell_type": "code",
      "metadata": {
        "id": "K_xdzm_HoqCR",
        "colab_type": "code",
        "colab": {
          "base_uri": "https://localhost:8080/",
          "height": 34
        },
        "outputId": "a82fa51d-8e4e-43fa-b293-98a1b423cb3a"
      },
      "source": [
        "message=\"hello world!\"\n",
        "n=17\n",
        "PI=3.1415\n",
        "PI\n",
        "n\n",
        "message\n",
        "StudentName"
      ],
      "execution_count": 4,
      "outputs": [
        {
          "output_type": "execute_result",
          "data": {
            "text/plain": [
              "'hello world!'"
            ]
          },
          "metadata": {
            "tags": []
          },
          "execution_count": 4
        }
      ]
    },
    {
      "cell_type": "code",
      "metadata": {
        "id": "w6u0r14Ppk-4",
        "colab_type": "code",
        "colab": {
          "base_uri": "https://localhost:8080/",
          "height": 34
        },
        "outputId": "92e5089a-47d7-4ce0-b28b-048a7c76a85a"
      },
      "source": [
        "PersonName=\"Bruce\"\n",
        "personName=\"bruce\"\n",
        "_personname=\"_Bruce\"\n",
        "Person_Name=\"Bruce_go\"\n",
        "#Person$Name=\"Bruce$Go\"\n",
        "#7PersonName=\"76_Bruce_Go\"\n",
        "print(PersonName)"
      ],
      "execution_count": 8,
      "outputs": [
        {
          "output_type": "stream",
          "text": [
            "Bruce\n"
          ],
          "name": "stdout"
        }
      ]
    },
    {
      "cell_type": "code",
      "metadata": {
        "id": "AztmwyqTq3PA",
        "colab_type": "code",
        "colab": {
          "base_uri": "https://localhost:8080/",
          "height": 34
        },
        "outputId": "b17daefa-b289-424b-aea6-b2d28f246b67"
      },
      "source": [
        "j=3\n",
        "c=1+2j\n",
        "c"
      ],
      "execution_count": 11,
      "outputs": [
        {
          "output_type": "execute_result",
          "data": {
            "text/plain": [
              "7"
            ]
          },
          "metadata": {
            "tags": []
          },
          "execution_count": 11
        }
      ]
    },
    {
      "cell_type": "code",
      "metadata": {
        "id": "bZLQF9xWrgev",
        "colab_type": "code",
        "colab": {
          "base_uri": "https://localhost:8080/",
          "height": 51
        },
        "outputId": "de14ace1-0118-416e-d0ba-e5f918f5a976"
      },
      "source": [
        "x=10\n",
        "y=2\n",
        "print(x**y)\n",
        "print(x*y)"
      ],
      "execution_count": 15,
      "outputs": [
        {
          "output_type": "stream",
          "text": [
            "100\n",
            "20\n"
          ],
          "name": "stdout"
        }
      ]
    },
    {
      "cell_type": "code",
      "metadata": {
        "id": "Pw3ayIz1sGJ3",
        "colab_type": "code",
        "colab": {
          "base_uri": "https://localhost:8080/",
          "height": 51
        },
        "outputId": "9c41bb1c-e030-4fce-b28c-8b32c915f6a5"
      },
      "source": [
        "x=10\n",
        "y=20\n",
        "# x+=10 # x=x+10\n",
        "print(x) \n",
        "print(not (x<100))"
      ],
      "execution_count": 25,
      "outputs": [
        {
          "output_type": "stream",
          "text": [
            "10\n",
            "False\n"
          ],
          "name": "stdout"
        }
      ]
    },
    {
      "cell_type": "code",
      "metadata": {
        "id": "0FTID06quUDI",
        "colab_type": "code",
        "colab": {
          "base_uri": "https://localhost:8080/",
          "height": 34
        },
        "outputId": "29c1ba8b-65bc-4a59-fd9e-a5f40042eac0"
      },
      "source": [
        "sum=0\n",
        "x=1\n",
        "while (x<=100):\n",
        "  sum=sum+x\n",
        "  x+=1\n",
        "print(sum)"
      ],
      "execution_count": 28,
      "outputs": [
        {
          "output_type": "stream",
          "text": [
            "5050\n"
          ],
          "name": "stdout"
        }
      ]
    },
    {
      "cell_type": "code",
      "metadata": {
        "id": "yKDStdSD3n9p",
        "colab_type": "code",
        "colab": {}
      },
      "source": [
        ""
      ],
      "execution_count": 0,
      "outputs": []
    },
    {
      "cell_type": "code",
      "metadata": {
        "id": "egiT1JXxvD__",
        "colab_type": "code",
        "colab": {
          "base_uri": "https://localhost:8080/",
          "height": 102
        },
        "outputId": "86f70b23-09f4-4072-c052-bb3204835792"
      },
      "source": [
        "print(int(3.14))\n",
        "print(int(3.99))\n",
        "print(int(\"123456\"))\n",
        "print(float(\"12.365\"))\n",
        "str(123654)"
      ],
      "execution_count": 31,
      "outputs": [
        {
          "output_type": "stream",
          "text": [
            "3\n",
            "3\n",
            "123456\n",
            "12.365\n"
          ],
          "name": "stdout"
        },
        {
          "output_type": "execute_result",
          "data": {
            "text/plain": [
              "'123654'"
            ]
          },
          "metadata": {
            "tags": []
          },
          "execution_count": 31
        }
      ]
    },
    {
      "cell_type": "code",
      "metadata": {
        "id": "P88uuoawv3A_",
        "colab_type": "code",
        "colab": {
          "base_uri": "https://localhost:8080/",
          "height": 68
        },
        "outputId": "9198bd36-0268-49c9-85bd-e5bdcf78c1a4"
      },
      "source": [
        "x=1\n",
        "y=2\n",
        "print((x+y)*3)\n",
        "print(x*3+3/y**3)\n",
        "print(x*(3+3)/y**3)"
      ],
      "execution_count": 35,
      "outputs": [
        {
          "output_type": "stream",
          "text": [
            "9\n",
            "3.375\n",
            "0.75\n"
          ],
          "name": "stdout"
        }
      ]
    },
    {
      "cell_type": "code",
      "metadata": {
        "id": "d0menci3wmwO",
        "colab_type": "code",
        "colab": {
          "base_uri": "https://localhost:8080/",
          "height": 51
        },
        "outputId": "7eb5588a-4a29-4b86-895d-6650bc0594bb"
      },
      "source": [
        "fruit=\"apple\"\n",
        "baked_food=\" nut bread\"\n",
        "#print(fruit-1)\n",
        "print(fruit+\"1\")\n",
        "print(fruit+baked_food)"
      ],
      "execution_count": 39,
      "outputs": [
        {
          "output_type": "stream",
          "text": [
            "apple1\n",
            "apple nut bread\n"
          ],
          "name": "stdout"
        }
      ]
    },
    {
      "cell_type": "code",
      "metadata": {
        "id": "Al1Ujxe7xJn0",
        "colab_type": "code",
        "colab": {
          "base_uri": "https://localhost:8080/",
          "height": 51
        },
        "outputId": "e0d7107e-1b99-47b0-a4fc-deb5c4cfdeed"
      },
      "source": [
        "#name=input(\"please input your name:\")\n",
        "#print(name)\n",
        "numpls=input(\"please input any number:\")\n",
        "numpls=int(numpls)\n",
        "print(numpls+1)"
      ],
      "execution_count": 43,
      "outputs": [
        {
          "output_type": "stream",
          "text": [
            "please input any number:99\n",
            "100\n"
          ],
          "name": "stdout"
        }
      ]
    },
    {
      "cell_type": "code",
      "metadata": {
        "id": "XUYN0rDEyhX2",
        "colab_type": "code",
        "colab": {
          "base_uri": "https://localhost:8080/",
          "height": 51
        },
        "outputId": "4da377ea-23fb-4a6d-a7af-43c5eb07bd37"
      },
      "source": [
        "radius=input(\"please input a radius\")\n",
        "radius=float(radius)\n",
        "area=3.14*radius**2\n",
        "print(\"The area of the circle is \", area)"
      ],
      "execution_count": 45,
      "outputs": [
        {
          "output_type": "stream",
          "text": [
            "please input a radius3\n",
            "The area of the circle is {0}  28.26\n"
          ],
          "name": "stdout"
        }
      ]
    },
    {
      "cell_type": "code",
      "metadata": {
        "id": "IZTcV05VzEMs",
        "colab_type": "code",
        "colab": {
          "base_uri": "https://localhost:8080/",
          "height": 51
        },
        "outputId": "da6b0ccc-b951-4607-e86e-49f874fb7231"
      },
      "source": [
        "r=float(input(\"please input a radius:\"))\n",
        "print(\"The area of the circle is\", 3.14*r**2)"
      ],
      "execution_count": 46,
      "outputs": [
        {
          "output_type": "stream",
          "text": [
            "please input a radius1\n",
            "The area of the circle is 3.14\n"
          ],
          "name": "stdout"
        }
      ]
    }
  ]
}