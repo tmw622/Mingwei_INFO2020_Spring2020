{
  "nbformat": 4,
  "nbformat_minor": 0,
  "metadata": {
    "colab": {
      "name": "Untitled",
      "provenance": [],
      "collapsed_sections": [],
      "authorship_tag": "ABX9TyM1Ba150dhZpx7G1ROufpjK",
      "include_colab_link": true
    },
    "kernelspec": {
      "name": "python3",
      "display_name": "Python 3"
    }
  },
  "cells": [
    {
      "cell_type": "markdown",
      "metadata": {
        "id": "view-in-github",
        "colab_type": "text"
      },
      "source": [
        "<a href=\"https://colab.research.google.com/github/tmw622/Mingwei_INFO2020_Spring2020/blob/master/answerofmidtermexam.ipynb\" target=\"_parent\"><img src=\"https://colab.research.google.com/assets/colab-badge.svg\" alt=\"Open In Colab\"/></a>"
      ]
    },
    {
      "cell_type": "markdown",
      "metadata": {
        "id": "6xqxk3Fb2Yxa",
        "colab_type": "text"
      },
      "source": [
        "**Q11 of Mid-term Exam**\n",
        "Write a function that could return the max value of a specific List. The requirements are as follows.\n",
        "\n",
        "1: the List is given as numlist=[11,43,13,423,[321,224,1998],90,298,[322,[1099,12]]]\n",
        "\n",
        "2: the List should be given as an argument of the function\n",
        "\n",
        "3: the function should return an int.\n",
        "\n",
        "4: use any method you think is right."
      ]
    },
    {
      "cell_type": "code",
      "metadata": {
        "id": "j6woqMja2XVO",
        "colab_type": "code",
        "outputId": "5dc73f97-a8dc-4d04-b4de-3e341471a978",
        "colab": {
          "base_uri": "https://localhost:8080/",
          "height": 34
        }
      },
      "source": [
        "def getmax(numlist,maxnum):\n",
        "\tfor elem in numlist:\n",
        "\t\tif type(elem) is list:\n",
        "\t\t      maxnum=getmax(elem,maxnum)\n",
        "\t\telse:\n",
        "\t\t \tif maxnum<elem:\n",
        "\t\t \t\tmaxnum=elem\n",
        "\treturn maxnum\n",
        "\n",
        "numlist=[11,43,13,423,[321,224,1998],900,298,[322,[1099,12]]]\n",
        "print(getmax(numlist,0))"
      ],
      "execution_count": 0,
      "outputs": [
        {
          "output_type": "stream",
          "text": [
            "1998\n"
          ],
          "name": "stdout"
        }
      ]
    },
    {
      "cell_type": "markdown",
      "metadata": {
        "id": "jJhCbllH_o3X",
        "colab_type": "text"
      },
      "source": [
        "**Q12 of Mid-term Exam**\n",
        "Write a function that could delete one specific character from one specific string. The requirements are as follows.\n",
        "\n",
        "1: the string could be \"Hello Python\", it is given as an argument of the function which. is a string type.\n",
        "\n",
        "2: the character you need to delete is \"P\"\n",
        "\n",
        "3: the result should be a string type"
      ]
    },
    {
      "cell_type": "code",
      "metadata": {
        "id": "f9kt76T-_6Kr",
        "colab_type": "code",
        "outputId": "667f0c2a-dacf-4366-891d-e24f0c26e408",
        "colab": {
          "base_uri": "https://localhost:8080/",
          "height": 34
        }
      },
      "source": [
        "def DelPartString(text,p):\n",
        "  newstring=\"\"\n",
        "  for chr in text:\n",
        "    if chr!=p:\n",
        "      newstring+=chr\n",
        "  return newstring\n",
        "\n",
        "print(DelPartString(\"Hello Python\",\"P\"))"
      ],
      "execution_count": 0,
      "outputs": [
        {
          "output_type": "stream",
          "text": [
            "Hello ython\n"
          ],
          "name": "stdout"
        }
      ]
    }
  ]
}