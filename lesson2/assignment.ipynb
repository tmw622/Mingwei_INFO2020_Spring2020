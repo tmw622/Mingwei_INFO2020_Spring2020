{
  "nbformat": 4,
  "nbformat_minor": 0,
  "metadata": {
    "colab": {
      "name": "Untitled8.ipynb",
      "provenance": [],
      "authorship_tag": "ABX9TyPELx09jW3tIj4Qav1mJjU7",
      "include_colab_link": true
    },
    "kernelspec": {
      "name": "python3",
      "display_name": "Python 3"
    }
  },
  "cells": [
    {
      "cell_type": "markdown",
      "metadata": {
        "id": "view-in-github",
        "colab_type": "text"
      },
      "source": [
        "<a href=\"https://colab.research.google.com/github/tmw622/Mingwei_INFO2020_Spring2020/blob/master/lesson2/assignment.ipynb\" target=\"_parent\"><img src=\"https://colab.research.google.com/assets/colab-badge.svg\" alt=\"Open In Colab\"/></a>"
      ]
    },
    {
      "cell_type": "code",
      "metadata": {
        "id": "fzHtqbSH_Vb-",
        "colab_type": "code",
        "colab": {
          "base_uri": "https://localhost:8080/",
          "height": 34
        },
        "outputId": "c4f29f60-2480-4272-8c79-e794928992cf"
      },
      "source": [
        "one=\"All\"\n",
        "two=\"work\"\n",
        "three=\"and\"\n",
        "four=\"no\"\n",
        "five=\"play\"\n",
        "six=\"makes\"\n",
        "seven=\"Jack\"\n",
        "eight=\"a\"\n",
        "nine=\"dull\"\n",
        "ten=\"boy\"\n",
        "sentence=one+\" \"+two+\" \"+three+\" \"+four+\" \"+five+\" \"+six+\" \"+seven+\" \"+eight+\" \"+nine+\" \"+ten\n",
        "print(sentence)"
      ],
      "execution_count": 5,
      "outputs": [
        {
          "output_type": "stream",
          "text": [
            "All work and no play makes Jack a dull boy\n"
          ],
          "name": "stdout"
        }
      ]
    },
    {
      "cell_type": "code",
      "metadata": {
        "id": "5uOILBLD_roC",
        "colab_type": "code",
        "colab": {
          "base_uri": "https://localhost:8080/",
          "height": 68
        },
        "outputId": "561a7524-5f54-4630-f33e-5d53f49b2ebb"
      },
      "source": [
        "a=float(input(\"please input a float number: \"))\n",
        "b=float(input(\"please input another float number: \"))\n",
        "S=3.14*(1+a/b)**3\n",
        "print(S)"
      ],
      "execution_count": 6,
      "outputs": [
        {
          "output_type": "stream",
          "text": [
            "please input a float number: 3.2\n",
            "please input another float number: 7.9\n",
            "8.70998306422007\n"
          ],
          "name": "stdout"
        }
      ]
    }
  ]
}