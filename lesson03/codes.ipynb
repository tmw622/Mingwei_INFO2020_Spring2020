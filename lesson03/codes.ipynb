{
  "nbformat": 4,
  "nbformat_minor": 0,
  "metadata": {
    "colab": {
      "name": "Untitled9.ipynb",
      "provenance": [],
      "authorship_tag": "ABX9TyMtZSzqv81J1k8eEYn7YORb",
      "include_colab_link": true
    },
    "kernelspec": {
      "name": "python3",
      "display_name": "Python 3"
    }
  },
  "cells": [
    {
      "cell_type": "markdown",
      "metadata": {
        "id": "view-in-github",
        "colab_type": "text"
      },
      "source": [
        "<a href=\"https://colab.research.google.com/github/tmw622/Mingwei_INFO2020_Spring2020/blob/master/lesson03/codes.ipynb\" target=\"_parent\"><img src=\"https://colab.research.google.com/assets/colab-badge.svg\" alt=\"Open In Colab\"/></a>"
      ]
    },
    {
      "cell_type": "code",
      "metadata": {
        "id": "FxCWoxuh6MZ1",
        "colab_type": "code",
        "colab": {}
      },
      "source": [
        "import turtle\n",
        "\n",
        "window=turtle.Screen()\n",
        "alex=turtle.Turtle()\n",
        "alex.forward(50)\n",
        "alex.left(90)\n",
        "alex.forward(30)\n",
        "\n",
        "window.mainloop()"
      ],
      "execution_count": 0,
      "outputs": []
    },
    {
      "cell_type": "code",
      "metadata": {
        "id": "cSqrU3zm6QlN",
        "colab_type": "code",
        "colab": {}
      },
      "source": [
        "import turtle\n",
        "\n",
        "window=turtle.Screen()\n",
        "window.bgcolor(\"lightgreen\")\n",
        "window.title(\"hello, Tess\")\n",
        "\n",
        "tess=turtle.Turtle()\n",
        "tess.color(\"blue\")\n",
        "tess.pensize(3)\n",
        "\n",
        "tess.forward(50)\n",
        "tess.left(120)\n",
        "tess.forward(50)\n",
        "\n",
        "window.mainloop()"
      ],
      "execution_count": 0,
      "outputs": []
    },
    {
      "cell_type": "code",
      "metadata": {
        "id": "Oyjtz8dH6TT8",
        "colab_type": "code",
        "colab": {}
      },
      "source": [
        "tess=turtle.Turtle()\n",
        "tess.color(\"hotpink\")\n",
        "tess.pensize(5)\n",
        "\n",
        "tess.forward(80)\n",
        "tess.left(120)\n",
        "tess.forward(80)\n",
        "tess.left(120)\n",
        "tess.forward(80)\n",
        "tess.left(120)\n",
        "tess.right(180)\n",
        "tess.forward(80)\n",
        "\n",
        "\n",
        "alex=turtle.Turtle()\n",
        "for i in range(20):\n",
        "    print(i)\n",
        "    alex.forward(150)\n",
        "    alex.left(90)\n",
        "\n",
        "window.mainloop()\n",
        "\n",
        "\n",
        "window.mainloop()"
      ],
      "execution_count": 0,
      "outputs": []
    },
    {
      "cell_type": "code",
      "metadata": {
        "id": "Q0vCdlBk6i-E",
        "colab_type": "code",
        "colab": {}
      },
      "source": [
        "import turtle\n",
        "\n",
        "window=turtle.Screen()\n",
        "window.bgcolor(\"lightgreen\")\n",
        "window.title(\"hello, Tess\")\n",
        "\n",
        "tess=turtle.Turtle()\n",
        "tess.shape(\"turtle\")\n",
        "tess.color(\"blue\")\n",
        "tess.pensize(3)\n",
        "\n",
        "#tess.penup()\n",
        "size=20\n",
        "\n",
        "for i in range(50):\n",
        "    #tess.stamp()\n",
        "    size=size+3\n",
        "    tess.forward(size)\n",
        "    tess.right(24)\n",
        "\n",
        "window.mainloop()"
      ],
      "execution_count": 0,
      "outputs": []
    },
    {
      "cell_type": "code",
      "metadata": {
        "id": "z_xP2kAF6ngl",
        "colab_type": "code",
        "colab": {}
      },
      "source": [
        "x=0\n",
        "if x%2 == 0:\n",
        "    print(x,\" is even.\")\n",
        "    print(\"Did you know that 2 is the only even number that is prime?\")\n",
        "else:\n",
        "    print(x,\" is odd\")\n",
        "    print(\"Did you know that multiplying two odd numbers always gives an odd result?\")"
      ],
      "execution_count": 0,
      "outputs": []
    },
    {
      "cell_type": "code",
      "metadata": {
        "id": "RwtDOSXH6p-t",
        "colab_type": "code",
        "colab": {}
      },
      "source": [
        "import math\n",
        "x=-1\n",
        "if x>0:\n",
        "    print(\"the negative number \", x, \" is not valid here\")\n",
        "    x=42\n",
        "    print(\"I've decided to use the number 42 instead.\")\n",
        "print(\"the square root of \",x , \"is\", math.sqrt(x))\n"
      ],
      "execution_count": 0,
      "outputs": []
    },
    {
      "cell_type": "code",
      "metadata": {
        "id": "Bg728ZAL6rzd",
        "colab_type": "code",
        "colab": {}
      },
      "source": [
        "choice=input(\"please input a choice:\")\n",
        "\n",
        "if choice==\"a\":\n",
        "    print(\"a\"+choice)\n",
        "elif choice==\"b\":\n",
        "    print(\"b\" + choice)\n",
        "elif choice==\"c\":\n",
        "    print(\"c\" + choice)\n",
        "else:\n",
        "    print(\"invalid choice\")"
      ],
      "execution_count": 0,
      "outputs": []
    },
    {
      "cell_type": "code",
      "metadata": {
        "id": "n_S2iFsY6tZl",
        "colab_type": "code",
        "colab": {}
      },
      "source": [
        "x=5\n",
        "y=10\n",
        "if 0<x:\n",
        "    if x<10:\n",
        "        print(\"x is a positive singe digit\")\n",
        "else:\n",
        "    if x<y:\n",
        "        print(\"x is smaller than 10\")\n"
      ],
      "execution_count": 0,
      "outputs": []
    },
    {
      "cell_type": "code",
      "metadata": {
        "id": "9TXdKnW07VSo",
        "colab_type": "code",
        "colab": {}
      },
      "source": [
        "for friend in [\"Joe\",\"Zoe\",\"Zuki\",\"Thandi\",\"Paris\"]:\n",
        "    invite=\"Hi \"+ friend +\". Please come to my party!\"\n",
        "    print(invite)"
      ],
      "execution_count": 0,
      "outputs": []
    },
    {
      "cell_type": "code",
      "metadata": {
        "id": "IPT8i9pr6vRF",
        "colab_type": "code",
        "colab": {}
      },
      "source": [
        "for x in range(13):\n",
        "    print(x, \"\\t\", 2**x)\n",
        "    "
      ],
      "execution_count": 0,
      "outputs": []
    },
    {
      "cell_type": "code",
      "metadata": {
        "id": "tLaMLRMs6whd",
        "colab_type": "code",
        "colab": {}
      },
      "source": [
        "for i in range(100):\n",
        "    if i%2==0:\n",
        "        continue\n",
        "        #break\n",
        "    print(i)\n",
        "print(\"done\")"
      ],
      "execution_count": 0,
      "outputs": []
    },
    {
      "cell_type": "code",
      "metadata": {
        "id": "ZbTREBE96yUF",
        "colab_type": "code",
        "colab": {}
      },
      "source": [
        "import random\n",
        "rng=random.Random()\n",
        "number=rng.randrange(1,1000)\n",
        "guesses=0\n",
        "message=\"\"\n",
        "\n",
        "while True:\n",
        "    guesses=int(input(message+\"\\n Guess my number between 1 and 1000:\"))\n",
        "    guesses+=1\n",
        "    if guesses>number:\n",
        "        message+=str(guesses)+\" is too high. \\n\"\n",
        "    elif guesses<number:\n",
        "        message+=str(guesses)+\" is too low.\\n\"\n",
        "    else:\n",
        "        break\n",
        "input(\"\\n\\n Great, you got it in \"+str(guesses)+\" guesses!\\n\\n\")"
      ],
      "execution_count": 0,
      "outputs": []
    }
  ]
}