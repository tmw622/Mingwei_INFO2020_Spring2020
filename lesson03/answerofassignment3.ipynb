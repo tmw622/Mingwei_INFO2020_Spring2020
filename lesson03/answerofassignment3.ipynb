{
  "nbformat": 4,
  "nbformat_minor": 0,
  "metadata": {
    "colab": {
      "name": "Untitled11.ipynb",
      "provenance": [],
      "collapsed_sections": [],
      "toc_visible": true,
      "authorship_tag": "ABX9TyNNLxTd4QU8bKIp8FkPmOAa",
      "include_colab_link": true
    },
    "kernelspec": {
      "name": "python3",
      "display_name": "Python 3"
    }
  },
  "cells": [
    {
      "cell_type": "markdown",
      "metadata": {
        "id": "view-in-github",
        "colab_type": "text"
      },
      "source": [
        "<a href=\"https://colab.research.google.com/github/tmw622/Mingwei_INFO2020_Spring2020/blob/master/lesson03/answerofassignment3.ipynb\" target=\"_parent\"><img src=\"https://colab.research.google.com/assets/colab-badge.svg\" alt=\"Open In Colab\"/></a>"
      ]
    },
    {
      "cell_type": "markdown",
      "metadata": {
        "id": "zk-4x3xXo25g",
        "colab_type": "text"
      },
      "source": [
        "Probem 1: Assume the days of the week are numbered 0,1,2,3,4,5,6 from Sunday to Saturday. Write a program that asks a day number, and prints the day name (a string)."
      ]
    },
    {
      "cell_type": "code",
      "metadata": {
        "id": "SmBhvAIppJp5",
        "colab_type": "code",
        "outputId": "ab826b21-aa2f-44ba-c646-d20a1faa54db",
        "colab": {
          "base_uri": "https://localhost:8080/",
          "height": 51
        }
      },
      "source": [
        "Day = int(input(\"Please enter the number: \"))\n",
        "\n",
        "if Day == 0:\n",
        "   print(\"Sunday\")\n",
        "elif Day == 1:\n",
        "   print(\"Monday\")\n",
        "elif Day == 2:\n",
        "   print(\"Tuesday\")\n",
        "elif Day == 3:\n",
        "   print(\"Wednesday\")\n",
        "elif Day == 4:\n",
        "   print(\"Thursday\")\n",
        "elif Day == 5:\n",
        "   print(\"Friday\")\n",
        "elif Day == 6:\n",
        "   print(\"Saturday\")\n",
        "else:\n",
        "   print(\"not valid!\")"
      ],
      "execution_count": 0,
      "outputs": [
        {
          "output_type": "stream",
          "text": [
            "Please enter the number: 5\n",
            "Friday\n"
          ],
          "name": "stdout"
        }
      ]
    },
    {
      "cell_type": "markdown",
      "metadata": {
        "id": "dyTZhsl8p5VJ",
        "colab_type": "text"
      },
      "source": [
        "Problem 2:Write a program which, given the length of two sides of a right-angled triangle, returns the length of the hypotenuse."
      ]
    },
    {
      "cell_type": "code",
      "metadata": {
        "id": "F_PJI4-gqAL1",
        "colab_type": "code",
        "outputId": "d43484a2-c727-4b7a-d128-0fb7772874c8",
        "colab": {
          "base_uri": "https://localhost:8080/",
          "height": 68
        }
      },
      "source": [
        "import math\n",
        "\n",
        "FirstSide = float(input(\"please input the length of first side of a triangle: \"))\n",
        "SecondSide = float(input(\"please input the length of second side of a triangle: \"))\n",
        "\n",
        "ThirdSide = math.sqrt(FirstSide**2 + SecondSide**2)\n",
        "print(\"The length of the hypotenuse is\", ThirdSide )"
      ],
      "execution_count": 0,
      "outputs": [
        {
          "output_type": "stream",
          "text": [
            "please input the length of first side of a triangle: 10\n",
            "please input the length of second side of a triangle: 20\n",
            "The length of the hypotenuse is 22.360679774997898\n"
          ],
          "name": "stdout"
        }
      ]
    },
    {
      "cell_type": "markdown",
      "metadata": {
        "id": "U2c4my3vq1RN",
        "colab_type": "text"
      },
      "source": [
        "Prolem 3:Write a program which, given the length of three sides of a triangle, will determine whether the triangle is right- angled. Assume that the third argument to the function is always the longest side. It will return True if the triangle is right-angled, or False otherwise."
      ]
    },
    {
      "cell_type": "code",
      "metadata": {
        "id": "v8rFfUzaq8y4",
        "colab_type": "code",
        "outputId": "73a55f5b-2fc3-401b-c925-b29b9ae0b9a2",
        "colab": {
          "base_uri": "https://localhost:8080/",
          "height": 85
        }
      },
      "source": [
        "import math\n",
        "\n",
        "FirstSide = float(input(\"please input the length of first side of a triangle: \"))\n",
        "SecondSide = float(input(\"please input the length of second side of a triangle: \"))\n",
        "ThirdSide = float(input(\"please input the length of longest side of a triangle: \"))\n",
        "\n",
        "ValidSide=FirstSide+SecondSide\n",
        "RightSide=math.sqrt(FirstSide**2+SecondSide**2)\n",
        "\n",
        "if ThirdSide>=ValidSide:\n",
        "  print(\"The length of the longest side is invalid\") \n",
        "elif ThirdSide!=RightSide:\n",
        "  print(\"False\")\n",
        "else:\n",
        "  print(\"True\") "
      ],
      "execution_count": 0,
      "outputs": [
        {
          "output_type": "stream",
          "text": [
            "please input the length of first side of a triangle: 3\n",
            "please input the length of second side of a triangle: 4\n",
            "please input the length of longest side of a triangle: 5\n",
            "True\n"
          ],
          "name": "stdout"
        }
      ]
    },
    {
      "cell_type": "markdown",
      "metadata": {
        "id": "ty3_M1DZ00nQ",
        "colab_type": "text"
      },
      "source": [
        "Problem 4:Write a program that uses a for loop to print( January to December)\n",
        "One of the months of the year is January \n",
        "One of the months of the year is February ... "
      ]
    },
    {
      "cell_type": "code",
      "metadata": {
        "id": "mL93rsxq06s9",
        "colab_type": "code",
        "outputId": "7fe2eedc-3b9c-4027-efa7-3b874fd3f9ad",
        "colab": {
          "base_uri": "https://localhost:8080/",
          "height": 221
        }
      },
      "source": [
        "for month in [\"January\",\"February\",\"March\",\"April\",\"May\",\"June\",\"July\",\"August\",\"September\",\"October\",\"November\",\"December\"]:\n",
        "  print(\"One of the months of the year is \",month)"
      ],
      "execution_count": 0,
      "outputs": [
        {
          "output_type": "stream",
          "text": [
            "One of the months of the year is  January\n",
            "One of the months of the year is  February\n",
            "One of the months of the year is  March\n",
            "One of the months of the year is  April\n",
            "One of the months of the year is  May\n",
            "One of the months of the year is  June\n",
            "One of the months of the year is  July\n",
            "One of the months of the year is  August\n",
            "One of the months of the year is  September\n",
            "One of the months of the year is  October\n",
            "One of the months of the year is  November\n",
            "One of the months of the year is  December\n"
          ],
          "name": "stdout"
        }
      ]
    },
    {
      "cell_type": "markdown",
      "metadata": {
        "id": "UteMJTlQ1OdD",
        "colab_type": "text"
      },
      "source": [
        "Problem 5: Assume you have the assignment numbers = [12, 10, 32, 3, 66, 17, 42, 99, 20] (a) Write a loop that adds all the numbers from the list into a variable called total. You should set the total variable to have the value 0 before you start adding them up, and print the value in total after the loop has completed. (b) Print the product of all the numbers in the list. (product means all multiplied together)"
      ]
    },
    {
      "cell_type": "code",
      "metadata": {
        "id": "hWyh4G8b1esl",
        "colab_type": "code",
        "outputId": "38c5c4c2-e478-43fd-9add-b8bfebf57a31",
        "colab": {
          "base_uri": "https://localhost:8080/",
          "height": 51
        }
      },
      "source": [
        "numbers=[12, 10, 32, 3, 66, 17, 42, 99, 20]\n",
        "total=0\n",
        "product=1\n",
        "for i in numbers:\n",
        "  total+=i\n",
        "  product*=i\n",
        "print(\"total of numbers: \",total)\n",
        "print(\"product of numbers:\",product)"
      ],
      "execution_count": 0,
      "outputs": [
        {
          "output_type": "stream",
          "text": [
            "total of numbers:  301\n",
            "product of numbers: 1074879590400\n"
          ],
          "name": "stdout"
        }
      ]
    },
    {
      "cell_type": "markdown",
      "metadata": {
        "id": "0HYaECUo2Hvp",
        "colab_type": "text"
      },
      "source": [
        "Problem 6: Use for loops to make a turtle draw these regular polygons(regular means all sides the same lengths, all angles the same): • An equilateral triangle • A hexagon (six sides)"
      ]
    },
    {
      "cell_type": "code",
      "metadata": {
        "id": "ul8gcWYE3Af2",
        "colab_type": "code",
        "colab": {}
      },
      "source": [
        "# this is an equilateral triangle\n",
        "\n",
        "import turtle\n",
        "\n",
        "window=turtle.Screen()\n",
        "\n",
        "triangle=turtle.Turtle()\n",
        "\n",
        "triangle.forward(100)\n",
        "\n",
        "triangle.left(120)\n",
        "triangle.forward(100)\n",
        "\n",
        "triangle.left(120)\n",
        "triangle.forward(100)\n",
        "\n",
        "window.mainloop()"
      ],
      "execution_count": 0,
      "outputs": []
    },
    {
      "cell_type": "code",
      "metadata": {
        "id": "sBE6skep-Q6F",
        "colab_type": "code",
        "colab": {
          "base_uri": "https://localhost:8080/",
          "height": 286
        },
        "outputId": "c7b8b91f-f1b1-4e90-9769-7595191fb46d"
      },
      "source": [
        "import os\n",
        "from google.colab import drive\n",
        "from PIL import Image\n",
        "import matplotlib.pyplot as plt\n",
        "\n",
        "path=\"/content/drive/My Drive/Colab/images/lesson03/\"\n",
        "img=Image.open(\"triangleturtle.png\")\n",
        "print(img.mode)\n",
        "plt.figure(\"img\")\n",
        "plt.imshow(img)\n",
        "plt.show()\n",
        "\n"
      ],
      "execution_count": 24,
      "outputs": [
        {
          "output_type": "stream",
          "text": [
            "RGBA\n"
          ],
          "name": "stdout"
        },
        {
          "output_type": "display_data",
          "data": {
            "image/png": "[encoded data removed]",
            "text/plain": [
              "<Figure size 432x288 with 1 Axes>"
            ]
          },
          "metadata": {
            "tags": []
          }
        }
      ]
    },
    {
      "cell_type": "markdown",
      "metadata": {
        "id": "DljY9zU2AK5g",
        "colab_type": "text"
      },
      "source": [
        "here is the link of the image: https://drive.google.com/file/d/1J2VJh6L20AG5GfhVsHfQFJrxOmvrwkdK/view?usp=sharing"
      ]
    },
    {
      "cell_type": "code",
      "metadata": {
        "id": "zZ8TfgjG_KJ9",
        "colab_type": "code",
        "colab": {}
      },
      "source": [
        "# this is a hexagon\n",
        "import turtle\n",
        "\n",
        "window=turtle.Screen()\n",
        "\n",
        "polygon=turtle.Turtle()\n",
        "\n",
        "for _ in range(6):\n",
        "    polygon.forward(100)\n",
        "    polygon.left(360/6)\n",
        "\n",
        "window.mainloop()"
      ],
      "execution_count": 0,
      "outputs": []
    },
    {
      "cell_type": "code",
      "metadata": {
        "id": "D-AV5Be1_wEw",
        "colab_type": "code",
        "colab": {
          "base_uri": "https://localhost:8080/",
          "height": 286
        },
        "outputId": "7b3be5f2-06ba-4824-e366-7ebb41ad923b"
      },
      "source": [
        "path=\"/content/drive/My Drive/Colab/images/lesson03/\"\n",
        "img=Image.open(\"hexagon.png\")\n",
        "print(img.mode)\n",
        "plt.figure(\"img\")\n",
        "plt.imshow(img)\n",
        "plt.show()"
      ],
      "execution_count": 25,
      "outputs": [
        {
          "output_type": "stream",
          "text": [
            "RGBA\n"
          ],
          "name": "stdout"
        },
        {
          "output_type": "display_data",
          "data": {
            "image/png": "[encoded data removed]",
            "text/plain": [
              "<Figure size 432x288 with 1 Axes>"
            ]
          },
          "metadata": {
            "tags": []
          }
        }
      ]
    },
    {
      "cell_type": "markdown",
      "metadata": {
        "id": "R5PjKlMzATaH",
        "colab_type": "text"
      },
      "source": [
        "here is the link of the image:https://drive.google.com/file/d/1ZMlD2cQ-JHbsWLqKoiSx8el3GdXqNeM9/view?usp=sharing"
      ]
    },
    {
      "cell_type": "markdown",
      "metadata": {
        "id": "H-Vw2gAkAfd2",
        "colab_type": "text"
      },
      "source": [
        "Problem 7:A drunk pirate makes a random turn and then takes 100 steps forward, makes another random turn, takes another 100 steps, turns another random amount, etc. A social science student records the angle of each turn before the next 100 steps are taken. Her experimental data is [160, -43, 270, -97, -43, 200, -940, 17, -86]. (Positive angles are counter-clockwise.) Use a turtle to draw the path taken by our drunk friend."
      ]
    },
    {
      "cell_type": "code",
      "metadata": {
        "id": "PsVc9gPiAcnb",
        "colab_type": "code",
        "colab": {}
      },
      "source": [
        "import turtle\n",
        "\n",
        "window=turtle.Screen()\n",
        "pirate=turtle.Turtle()\n",
        "\n",
        "angles=[160, -43, 270, -97, -43, 200, -940, 17, -86]\n",
        "\n",
        "for i in angles:\n",
        "    if i>0:\n",
        "        pirate.left(i)\n",
        "    else:\n",
        "        pirate.right(abs(i))\n",
        "    pirate.forward(100)\n",
        "\n",
        "window.mainloop()\n"
      ],
      "execution_count": 0,
      "outputs": []
    },
    {
      "cell_type": "code",
      "metadata": {
        "id": "7FoGlwTbCBcM",
        "colab_type": "code",
        "colab": {
          "base_uri": "https://localhost:8080/",
          "height": 286
        },
        "outputId": "bdf42369-da31-4fe6-904b-ee678ab7fab5"
      },
      "source": [
        "path=\"/content/drive/My Drive/Colab/images/lesson03/\"\n",
        "img=Image.open(\"randomturtle.png\")\n",
        "print(img.mode)\n",
        "plt.figure(\"img\")\n",
        "plt.imshow(img)\n",
        "plt.show()"
      ],
      "execution_count": 26,
      "outputs": [
        {
          "output_type": "stream",
          "text": [
            "RGBA\n"
          ],
          "name": "stdout"
        },
        {
          "output_type": "display_data",
          "data": {
            "image/png": "[encoded data removed]",
            "text/plain": [
              "<Figure size 432x288 with 1 Axes>"
            ]
          },
          "metadata": {
            "tags": []
          }
        }
      ]
    },
    {
      "cell_type": "markdown",
      "metadata": {
        "id": "LVJOzQYmCCiA",
        "colab_type": "text"
      },
      "source": [
        "here is the link of the image:https://drive.google.com/open?id=1DDs2nKpzGJfnAb_kKBXwtqR4m4qPW3kP"
      ]
    },
    {
      "cell_type": "markdown",
      "metadata": {
        "id": "npdyS0HxCbHH",
        "colab_type": "text"
      },
      "source": [
        "Problem 8:Write a program that counts the number of even digits in the scope of 1—1000."
      ]
    },
    {
      "cell_type": "code",
      "metadata": {
        "id": "nTdmTSXrCm3-",
        "colab_type": "code",
        "colab": {
          "base_uri": "https://localhost:8080/",
          "height": 34
        },
        "outputId": "e1313a97-feb0-4bee-b5c6-e165cadd58a1"
      },
      "source": [
        "count=0\n",
        "for i in range(1000):\n",
        "  if i%2==0:\n",
        "    count+=1\n",
        "print(\"the total count of even number between 1-1000 is:\", count )"
      ],
      "execution_count": 27,
      "outputs": [
        {
          "output_type": "stream",
          "text": [
            "the total count of even number between 1-1000 is:  500\n"
          ],
          "name": "stdout"
        }
      ]
    }
  ]
}