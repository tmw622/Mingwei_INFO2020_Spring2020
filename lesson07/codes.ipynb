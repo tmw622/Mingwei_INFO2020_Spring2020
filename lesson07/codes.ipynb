{
  "nbformat": 4,
  "nbformat_minor": 0,
  "metadata": {
    "colab": {
      "name": "Untitled8.ipynb",
      "provenance": [],
      "authorship_tag": "ABX9TyOW2UrTn0xrftHaDXLKQ4sl",
      "include_colab_link": true
    },
    "kernelspec": {
      "name": "python3",
      "display_name": "Python 3"
    }
  },
  "cells": [
    {
      "cell_type": "markdown",
      "metadata": {
        "id": "view-in-github",
        "colab_type": "text"
      },
      "source": [
        "<a href=\"https://colab.research.google.com/github/tmw622/Mingwei_INFO2020_Spring2020/blob/master/lesson07/codes.ipynb\" target=\"_parent\"><img src=\"https://colab.research.google.com/assets/colab-badge.svg\" alt=\"Open In Colab\"/></a>"
      ]
    },
    {
      "cell_type": "code",
      "metadata": {
        "id": "h4X5yTrFIc0A",
        "colab_type": "code",
        "colab": {
          "base_uri": "https://localhost:8080/",
          "height": 34
        },
        "outputId": "f8be01be-184e-4888-d88d-08102146633a"
      },
      "source": [
        "def recursive_sum(nested_number_list):\n",
        "    total=0\n",
        "    for element in nested_number_list:\n",
        "        if type(element) is list:\n",
        "            total+=recursive_sum(element)\n",
        "        else:\n",
        "            total+=element\n",
        "    return total\n",
        "\n",
        "\n",
        "numberlist=[1,2,3,[5,234,[7,4,0]],[6,3.5,22],[863,[25,65,845,98]]]\n",
        "print(recursive_sum(numberlist))"
      ],
      "execution_count": 1,
      "outputs": [
        {
          "output_type": "stream",
          "text": [
            "2183.5\n"
          ],
          "name": "stdout"
        }
      ]
    },
    {
      "cell_type": "code",
      "metadata": {
        "id": "4AwzftHkKPp-",
        "colab_type": "code",
        "colab": {}
      },
      "source": [
        "import  turtle\n",
        "\n",
        "def koch(tortoise, order, size):\n",
        "    if order==0:\n",
        "        tortoise.forward(size)\n",
        "    else:\n",
        "        for angle in [60,-120,60,0]:\n",
        "            koch(tortoise,order ,size/3)\n",
        "            tortoise.left(angle)\n",
        "\n",
        "\n",
        "window=turtle.Screen()\n",
        "turtle=turtle.Turtle()\n",
        "koch(turtle,3,500)\n",
        "\n",
        "window.mainloop()\n"
      ],
      "execution_count": 0,
      "outputs": []
    },
    {
      "cell_type": "code",
      "metadata": {
        "id": "NgDvdfblKTtF",
        "colab_type": "code",
        "colab": {
          "base_uri": "https://localhost:8080/",
          "height": 34
        },
        "outputId": "6f57179b-9b20-4c7f-b498-f9f2df4bf138"
      },
      "source": [
        "def recursive_max(nested_list):\n",
        "    largest=None\n",
        "    first_time=True\n",
        "    for element in nested_list:\n",
        "        if type(element) is list:\n",
        "            value=recursive_max(element)\n",
        "        else:\n",
        "            value=element\n",
        "        if first_time or value>largest:\n",
        "            largest=value\n",
        "            first_time=False\n",
        "    return largest\n",
        "\n",
        "numberlist=[1,2,3,[5,234,[7,4,0]],[6,3.5,22],[863,[25,65,845,98]]]\n",
        "print(recursive_max(numberlist))"
      ],
      "execution_count": 3,
      "outputs": [
        {
          "output_type": "stream",
          "text": [
            "863\n"
          ],
          "name": "stdout"
        }
      ]
    },
    {
      "cell_type": "code",
      "metadata": {
        "id": "TsYauLp9KYHV",
        "colab_type": "code",
        "colab": {
          "base_uri": "https://localhost:8080/",
          "height": 34
        },
        "outputId": "05648493-3377-455b-9e93-4c31544ff87e"
      },
      "source": [
        "def fib(n):\n",
        "    if n<=1:\n",
        "        return n\n",
        "    t=fib(n-1)+fib(n-2)\n",
        "    return t\n",
        "\n",
        "print(fib(10))"
      ],
      "execution_count": 4,
      "outputs": [
        {
          "output_type": "stream",
          "text": [
            "55\n"
          ],
          "name": "stdout"
        }
      ]
    },
    {
      "cell_type": "code",
      "metadata": {
        "id": "zYAUfk_6KaFt",
        "colab_type": "code",
        "colab": {}
      },
      "source": [
        "import os\n",
        "\n",
        "def get_dirlist(path):\n",
        "    dirlist=os.listdir(path)\n",
        "    dirlist.sort()\n",
        "    return dirlist\n",
        "\n",
        "def print_files(path,prefix=\"\"):\n",
        "    if prefix==\"\":\n",
        "        print(\"Folder listing for\",path)\n",
        "        prefix=\"|\"\n",
        "\n",
        "    dirlist=get_dirlist(path)\n",
        "    for file in dirlist:\n",
        "        print(prefix+file)\n",
        "        fullname=os.path.join(path,file)\n",
        "        if os.path.isdir(fullname):\n",
        "            print_files(fullname,prefix+\"|\")\n",
        "\n",
        "print_files(\"C:\\\\Users\\\\Instructor\\\\Downloads\")"
      ],
      "execution_count": 0,
      "outputs": []
    },
    {
      "cell_type": "code",
      "metadata": {
        "id": "EiZxVQ6KKeud",
        "colab_type": "code",
        "colab": {
          "base_uri": "https://localhost:8080/",
          "height": 194
        },
        "outputId": "25ed6fcc-14a5-49c2-ae63-0b0ae3888821"
      },
      "source": [
        "def functiona(n):\n",
        "    if n==0:\n",
        "        return\n",
        "    print('a')\n",
        "    functionb(n-1)\n",
        "\n",
        "def functionb(n):\n",
        "    print('b')\n",
        "    functiona(n-1)\n",
        "\n",
        "functiona(10)"
      ],
      "execution_count": 6,
      "outputs": [
        {
          "output_type": "stream",
          "text": [
            "a\n",
            "b\n",
            "a\n",
            "b\n",
            "a\n",
            "b\n",
            "a\n",
            "b\n",
            "a\n",
            "b\n"
          ],
          "name": "stdout"
        }
      ]
    }
  ]
}