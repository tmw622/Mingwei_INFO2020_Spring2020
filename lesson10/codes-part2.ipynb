{
  "nbformat": 4,
  "nbformat_minor": 0,
  "metadata": {
    "colab": {
      "name": "Untitled19.ipynb",
      "provenance": [],
      "authorship_tag": "ABX9TyPMSAujCKPaphXJVdUKGsSA",
      "include_colab_link": true
    },
    "kernelspec": {
      "name": "python3",
      "display_name": "Python 3"
    }
  },
  "cells": [
    {
      "cell_type": "markdown",
      "metadata": {
        "id": "view-in-github",
        "colab_type": "text"
      },
      "source": [
        "<a href=\"https://colab.research.google.com/github/tmw622/Mingwei_INFO2020_Spring2020/blob/master/lesson10/codes-part2.ipynb\" target=\"_parent\"><img src=\"https://colab.research.google.com/assets/colab-badge.svg\" alt=\"Open In Colab\"/></a>"
      ]
    },
    {
      "cell_type": "markdown",
      "metadata": {
        "id": "UAbYwnmG0ghj",
        "colab_type": "text"
      },
      "source": [
        "1:Group Clause"
      ]
    },
    {
      "cell_type": "code",
      "metadata": {
        "id": "a3dJdhWS0cDw",
        "colab_type": "code",
        "colab": {}
      },
      "source": [
        "import pymysql\n",
        "\n",
        "db=pymysql.connect(\"localhost\",\"root\",\"python3020\",\"pydb\")\n",
        "dbcursor=db.cursor()\n",
        "\n",
        "sql=\"select tpyname,sum(tpynum) as counts from tpython group by tpyname having counts>5 order by counts desc \"\n",
        "\n",
        "dbcursor.execute(sql)\n",
        "results=dbcursor.fetchall()\n",
        "print(\"tpyname \\t tcount\")\n",
        "print(\"-----------------------\")\n",
        "for row in results:\n",
        "    print(row[0]+\"\\t\"+str(row[1]))\n",
        "    print(\"-----------------------\")\n",
        "\n",
        "dbcursor.close()\n",
        "db.close()\n",
        "results=\"\"\n"
      ],
      "execution_count": 0,
      "outputs": []
    },
    {
      "cell_type": "markdown",
      "metadata": {
        "id": "4fowimJW0gYD",
        "colab_type": "text"
      },
      "source": [
        "2:User-Defined"
      ]
    },
    {
      "cell_type": "code",
      "metadata": {
        "id": "0sI_xVVj0v1-",
        "colab_type": "code",
        "colab": {}
      },
      "source": [
        "import pymysql\n",
        "\n",
        "db=pymysql.connect(\"localhost\",\"root\",\"python3020\",\"pydb\")\n",
        "dbcursor=db.cursor()\n",
        "\n",
        "sql=\"select * from tpython where tpyname=%s and tpynum=%s\"\n",
        "\n",
        "#values=input(\"please input the name you want to search:\")\n",
        "values=(\"test5\",2)\n",
        "dbcursor.execute(sql,values)\n",
        "results=dbcursor.fetchall()\n",
        "\n",
        "print(\"tpyid \\t tpyname \\t tpynum\")\n",
        "print(\"-----------------------\")\n",
        "for row in results:\n",
        "    print(str(row[0])+\"\\t\"+row[1]+\"\\t\"+str(row[4]))\n",
        "    print(\"-----------------------\")\n",
        "\n",
        "dbcursor.close()\n",
        "db.close()\n",
        "results=\"\"\n"
      ],
      "execution_count": 0,
      "outputs": []
    },
    {
      "cell_type": "markdown",
      "metadata": {
        "id": "d_aEAiPp0ySK",
        "colab_type": "text"
      },
      "source": [
        "3:Limit Clause"
      ]
    },
    {
      "cell_type": "code",
      "metadata": {
        "id": "k32e1AKI04mQ",
        "colab_type": "code",
        "colab": {}
      },
      "source": [
        "import pymysql\n",
        "\n",
        "db=pymysql.connect(\"localhost\",\"root\",\"python3020\",\"pydb\")\n",
        "dbcursor=db.cursor()\n",
        "\n",
        "sql=\"select * from tpython limit 3,5\"\n",
        "\n",
        "dbcursor.execute(sql)\n",
        "results=dbcursor.fetchall()\n",
        "print(\"tpyid \\t tpyname\")\n",
        "print(\"-----------------------\")\n",
        "for row in results:\n",
        "    print(str(row[0])+\"\\t\"+row[1])\n",
        "    print(\"-----------------------\")\n",
        "\n",
        "dbcursor.close()\n",
        "db.close()\n",
        "results=\"\"\n"
      ],
      "execution_count": 0,
      "outputs": []
    },
    {
      "cell_type": "markdown",
      "metadata": {
        "id": "eHIpZ3E50ybh",
        "colab_type": "text"
      },
      "source": [
        "4:Pattern"
      ]
    },
    {
      "cell_type": "code",
      "metadata": {
        "id": "psBffysx09dK",
        "colab_type": "code",
        "colab": {}
      },
      "source": [
        "import pymysql\n",
        "\n",
        "db=pymysql.connect(\"localhost\",\"root\",\"python3020\",\"pydb\")\n",
        "dbcursor=db.cursor()\n",
        "\n",
        "sql=\"select * from tpython where tpymemo like %s\"\n",
        "\n",
        "values='c%'\n",
        "dbcursor.execute(sql,values)\n",
        "results=dbcursor.fetchall()\n",
        "\n",
        "print(\"tpyid \\t tpyname \\t tpycontent\")\n",
        "print(\"-----------------------\")\n",
        "for row in results:\n",
        "    print(str(row[0])+\"\\t\"+row[1]+\"\\t\"+row[2])\n",
        "    print(\"-----------------------\")\n",
        "\n",
        "dbcursor.close()\n",
        "db.close()\n",
        "results=\"\"\n"
      ],
      "execution_count": 0,
      "outputs": []
    },
    {
      "cell_type": "markdown",
      "metadata": {
        "id": "A2wAPb-21AfG",
        "colab_type": "text"
      },
      "source": [
        "5:Simple Insertion"
      ]
    },
    {
      "cell_type": "code",
      "metadata": {
        "id": "K8llcRXs1FaA",
        "colab_type": "code",
        "colab": {}
      },
      "source": [
        "import pymysql\n",
        "\n",
        "db=pymysql.connect(\"localhost\",\"root\",\"python3020\",\"pydb\")\n",
        "dbcursor=db.cursor()\n",
        "\n",
        "sql=\"insert into tpython(tpyname,tpymemo,tpydate,tpynum) values(%s,%s,%s,%s)\"\n",
        "values=(\"weather\",\"have a sunny day\",\"2020-04-06\",5)\n",
        "\n",
        "dbcursor.execute(sql,values)\n",
        "db.commit()\n",
        "\n",
        "dbcursor.close()\n",
        "db.close()\n"
      ],
      "execution_count": 0,
      "outputs": []
    },
    {
      "cell_type": "markdown",
      "metadata": {
        "id": "SKc1vJuh1I6z",
        "colab_type": "text"
      },
      "source": [
        "6: Insert Duplicate"
      ]
    },
    {
      "cell_type": "code",
      "metadata": {
        "id": "AumP6Zky1Szn",
        "colab_type": "code",
        "colab": {}
      },
      "source": [
        "import pymysql\n",
        "\n",
        "db=pymysql.connect(\"localhost\",\"root\",\"python3020\",\"world\")\n",
        "dbcursor=db.cursor()\n",
        "\n",
        "sql=\"insert into tcom(comid,comname,coutrycode) value(99,'singapore','sing') on duplicate key update comid=comid+1\"\n",
        "\n",
        "dbcursor.execute(sql)\n",
        "db.commit()\n",
        "\n",
        "dbcursor.close()\n",
        "db.close()\n"
      ],
      "execution_count": 0,
      "outputs": []
    },
    {
      "cell_type": "markdown",
      "metadata": {
        "id": "-uqVdFT21UhN",
        "colab_type": "text"
      },
      "source": [
        "7:Insert Validate"
      ]
    },
    {
      "cell_type": "code",
      "metadata": {
        "id": "GpERKVkK1fuQ",
        "colab_type": "code",
        "colab": {}
      },
      "source": [
        "import pymysql\n",
        "\n",
        "db=pymysql.connect(\"localhost\",\"root\",\"python3020\",\"world\")\n",
        "dbcursor=db.cursor()\n",
        "\n",
        "comid=input(\"please  input an id:\")\n",
        "comname=input(\"please  input a countryname:\")\n",
        "countrycode=input(\"please input a code correspoding to the country:\")\n",
        "\n",
        "sql=\"insert into tcom(comid,comname,coutrycode) value(%s,%s,%s)\"\n",
        "if not comid.isnumeric():\n",
        "    print(\"the id you input is not a number\")\n",
        "    exit()\n",
        "else:\n",
        "    values=(comid,comname,countrycode)\n",
        "    dbcursor.execute(sql,values)\n",
        "    db.commit()\n",
        "    dbcursor.close()\n",
        "    db.close()\n"
      ],
      "execution_count": 0,
      "outputs": []
    },
    {
      "cell_type": "markdown",
      "metadata": {
        "id": "G9iqxTtR1nZO",
        "colab_type": "text"
      },
      "source": [
        "8： Update"
      ]
    },
    {
      "cell_type": "code",
      "metadata": {
        "id": "ppuc7SXT1pym",
        "colab_type": "code",
        "colab": {}
      },
      "source": [
        "import pymysql\n",
        "\n",
        "db=pymysql.connect(\"localhost\",\"root\",\"python3020\",\"pydb\")\n",
        "dbcursor=db.cursor()\n",
        "\n",
        "sql=\"update tpython set tpyname=%s, tpydate=%s where tpyid=%s\"\n",
        "values=(\"School\",\"2020-04-08\",5)\n",
        "\n",
        "dbcursor.execute(sql,values)\n",
        "db.commit()\n",
        "\n",
        "dbcursor.close()\n",
        "db.close()\n"
      ],
      "execution_count": 0,
      "outputs": []
    },
    {
      "cell_type": "markdown",
      "metadata": {
        "id": "RBqgXi741sg-",
        "colab_type": "text"
      },
      "source": [
        "9：Delete"
      ]
    },
    {
      "cell_type": "code",
      "metadata": {
        "id": "AOwflj8l1ty3",
        "colab_type": "code",
        "colab": {}
      },
      "source": [
        "import pymysql\n",
        "\n",
        "db=pymysql.connect(\"localhost\",\"root\",\"python3020\",\"pydb\")\n",
        "dbcursor=db.cursor()\n",
        "\n",
        "sql=\"delete from tpython where tpyid=%s\"\n",
        "values=int(input(\"please input an id you want to delete:\"))\n",
        "\n",
        "dbcursor.execute(sql,values)\n",
        "db.commit()\n",
        "\n",
        "dbcursor.close()\n",
        "db.close()"
      ],
      "execution_count": 0,
      "outputs": []
    }
  ]
}