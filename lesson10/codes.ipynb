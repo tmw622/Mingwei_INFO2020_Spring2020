{
  "nbformat": 4,
  "nbformat_minor": 0,
  "metadata": {
    "colab": {
      "name": "Untitled18.ipynb",
      "provenance": [],
      "authorship_tag": "ABX9TyMPHbELVxtzM9ltBejpVe/H",
      "include_colab_link": true
    },
    "kernelspec": {
      "name": "python3",
      "display_name": "Python 3"
    }
  },
  "cells": [
    {
      "cell_type": "markdown",
      "metadata": {
        "id": "view-in-github",
        "colab_type": "text"
      },
      "source": [
        "<a href=\"https://colab.research.google.com/github/tmw622/Mingwei_INFO2020_Spring2020/blob/master/lesson10/codes.ipynb\" target=\"_parent\"><img src=\"https://colab.research.google.com/assets/colab-badge.svg\" alt=\"Open In Colab\"/></a>"
      ]
    },
    {
      "cell_type": "code",
      "metadata": {
        "id": "AyVEKdFbtZHh",
        "colab_type": "code",
        "colab": {}
      },
      "source": [
        "import pymysql\n",
        "\n",
        "pydb=pymysql.connect(\"localhost\",\"root\",\"python3020\",\"pydb\")\n",
        "dbcursor=pydb.cursor()\n",
        "sql=\"select * from tpython where tpyname='test6'\"\n",
        "dbcursor.execute(sql)\n",
        "result=dbcursor.fetchone()\n",
        "\n",
        "print(\"tpyid \\t tpyname \\t tpymemo \\t\\t tpydate\")\n",
        "print(\"-------------------------------------------------\")\n",
        "\n",
        "print(str(result[0])+\"\\t\\t\"+result[1]+\"\\t\"+result[2]+\"\\t\\t\"+str(result[3]))\n",
        "print(\"-------------------------------------------------\")\n",
        "\n",
        "dbcursor.close()\n",
        "results=\"\"\n",
        "pydb.close()\n"
      ],
      "execution_count": 0,
      "outputs": []
    }
  ]
}