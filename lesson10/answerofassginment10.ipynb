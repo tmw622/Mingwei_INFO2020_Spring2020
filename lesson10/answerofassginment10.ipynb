{
  "nbformat": 4,
  "nbformat_minor": 0,
  "metadata": {
    "colab": {
      "name": "Untitled17.ipynb",
      "provenance": [],
      "authorship_tag": "ABX9TyMzVtQV9+/aeWtqkdipVZA+",
      "include_colab_link": true
    },
    "kernelspec": {
      "name": "python3",
      "display_name": "Python 3"
    }
  },
  "cells": [
    {
      "cell_type": "markdown",
      "metadata": {
        "id": "view-in-github",
        "colab_type": "text"
      },
      "source": [
        "<a href=\"https://colab.research.google.com/github/tmw622/Mingwei_INFO2020_Spring2020/blob/master/lesson10/answerofassginment10.ipynb\" target=\"_parent\"><img src=\"https://colab.research.google.com/assets/colab-badge.svg\" alt=\"Open In Colab\"/></a>"
      ]
    },
    {
      "cell_type": "markdown",
      "metadata": {
        "id": "6Slwb-pBsJKX",
        "colab_type": "text"
      },
      "source": [
        "**Q1:**\n",
        "create a tstudent table in MySQL database, the requirements are as follows.\n",
        "\n",
        "    (1) the table should contain at least 6 columns, five of them must be  {stuid, stuname, major, stuyear, tuition}\n",
        "\n",
        "    (2) use the correct data type to define your columns\n",
        "    \n",
        "    (3) export the database as  a .sql file. \n",
        "    "
      ]
    },
    {
      "cell_type": "markdown",
      "metadata": {
        "id": "gD90pHIoslLB",
        "colab_type": "text"
      },
      "source": [
        "you can download the sql file from the following link.\n",
        "https://drive.google.com/file/d/1UJh0demUxP8WoSRlrbMBYojt5zg7Cg6J/view?usp=sharing"
      ]
    },
    {
      "cell_type": "markdown",
      "metadata": {
        "id": "Fc7hr0GMspwW",
        "colab_type": "text"
      },
      "source": [
        "**Q2:**Given a sql file  “world.sql”, complete the following tasks. \n",
        "\n",
        "    (1) import the file into your MySQL Server.\n",
        "\n",
        "    (2) write a function which could retrieval all the data from the table “country” in database ”world”\n",
        "\n",
        "    (3)  write a function which could retrieval one record from the table “country” by a specific parameter which is related to the field “Name”"
      ]
    },
    {
      "cell_type": "code",
      "metadata": {
        "id": "lk4WqXjIs5ya",
        "colab_type": "code",
        "colab": {}
      },
      "source": [
        "import pymysql\n",
        "\n",
        "\n",
        "def getdata():\n",
        "    db=pymysql.connect(\"localhost\",\"root\",\"python3020\",\"world\")\n",
        "    cursor=db.cursor()\n",
        "    sql=\"select * from country\"\n",
        "    cursor.execute(sql)\n",
        "    data=cursor.fetchall()\n",
        "    cursor.close()\n",
        "    db.close()\n",
        "    return data\n",
        "\n",
        "def getdatabyname(name):\n",
        "    db=pymysql.connect(\"localhost\",\"root\",\"python3020\",\"world\")\n",
        "    cursor=db.cursor()\n",
        "    sql=\"select * from country where Name='\"+name+\"'\"\n",
        "    cursor.execute(sql)\n",
        "    data=cursor.fetchall()\n",
        "    cursor.close()\n",
        "    db.close()\n",
        "    return data\n",
        "\n",
        "def printdata(data):\n",
        "    print(\"Code \\t Name \\t Contnent \\t\\t Region\")\n",
        "    print(\"-------------------------------------------------\")\n",
        "    for row in data:\n",
        "        print(str(row[0])+\"\\t\\t\"+row[1]+\"\\t\"+row[2]+\"\\t\\t\"+str(row[3]))\n",
        "        print(\"-------------------------------------------------\")\n",
        "    data=\"\"\n",
        "\n",
        "data=getdata()\n",
        "printdata(data)\n",
        "print(\"***************************************\")\n",
        "data=getdatabyname('China')\n",
        "printdata(data)"
      ],
      "execution_count": 0,
      "outputs": []
    }
  ]
}