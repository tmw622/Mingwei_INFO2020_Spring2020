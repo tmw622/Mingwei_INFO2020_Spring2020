{
  "nbformat": 4,
  "nbformat_minor": 0,
  "metadata": {
    "colab": {
      "name": "Untitled20.ipynb",
      "provenance": [],
      "collapsed_sections": [],
      "authorship_tag": "ABX9TyPSkLhngsHOvgzbV4YSG0ug",
      "include_colab_link": true
    },
    "kernelspec": {
      "name": "python3",
      "display_name": "Python 3"
    }
  },
  "cells": [
    {
      "cell_type": "markdown",
      "metadata": {
        "id": "view-in-github",
        "colab_type": "text"
      },
      "source": [
        "<a href=\"https://colab.research.google.com/github/tmw622/Mingwei_INFO2020_Spring2020/blob/master/lesson10/answerofassignment10-2.ipynb\" target=\"_parent\"><img src=\"https://colab.research.google.com/assets/colab-badge.svg\" alt=\"Open In Colab\"/></a>"
      ]
    },
    {
      "cell_type": "markdown",
      "metadata": {
        "id": "m_TeYZrxMMj6",
        "colab_type": "text"
      },
      "source": [
        "**Q1:**for the student table we created in last assignment, write a function which can add a student into the table\n",
        "\n",
        "    (1) the function accepts data in command line.\n",
        "\n",
        "    (2) insert at least 10 students into the table.\n",
        "\n",
        "    (3) the major must be “data science”, “information science”, ”computer science”\n",
        "    \n",
        "    (4) set at least 2 students in “data science”, 3 in “information science”,  5 in “computer science”"
      ]
    },
    {
      "cell_type": "code",
      "metadata": {
        "id": "4fAwV0TTMLen",
        "colab_type": "code",
        "colab": {}
      },
      "source": [
        "def addstu():\n",
        "    db = pymysql.connect(\"localhost\", \"root\", \"python3020\", \"pydb\")\n",
        "    dbcursor = db.cursor()\n",
        "    stuname=input(\"please input a studentname:\")\n",
        "    stumajor=input(\"please input his/her major:\")\n",
        "    stuyear=int(input(\"please input his/her year:\"))\n",
        "    tuition=float(input(\"please input his/her tuition:\"))\n",
        "    memo=input(\"please input his/her description:\")\n",
        "\n",
        "    sql=\"insert into tstudent(stuname,major,stuyear,tuition,memo) values(%s,%s,%s,%s,%s)\"\n",
        "    values=(stuname,stumajor,stuyear,tuition,memo)\n",
        "    dbcursor.execute(sql,values)\n",
        "    db.commit()\n",
        "    dbcursor.close()\n",
        "    db.close()\n",
        "addstu()"
      ],
      "execution_count": 0,
      "outputs": []
    },
    {
      "cell_type": "markdown",
      "metadata": {
        "id": "Dpeqt3emMMs-",
        "colab_type": "text"
      },
      "source": [
        "**Q2:**write a function which can delete a student by stuid (in command line)"
      ]
    },
    {
      "cell_type": "code",
      "metadata": {
        "id": "nvrXWrZAMqNS",
        "colab_type": "code",
        "colab": {}
      },
      "source": [
        "def delstu():\n",
        "    db = pymysql.connect(\"localhost\", \"root\", \"python3020\", \"pydb\")\n",
        "    dbcursor = db.cursor()\n",
        "    stuid=int(input(\"please input the studentid you want to delete:\"))\n",
        "    sql=\"delete from tstudent where stuid=%s\"\n",
        "    dbcursor.execute(sql,stuid)\n",
        "    db.commit()\n",
        "    dbcursor.close()\n",
        "    db.close()\n",
        "delstu()"
      ],
      "execution_count": 0,
      "outputs": []
    },
    {
      "cell_type": "markdown",
      "metadata": {
        "id": "ohREUcfcMM0V",
        "colab_type": "text"
      },
      "source": [
        "**Q3:**write a function which can modify a student’s name (in command line)\n"
      ]
    },
    {
      "cell_type": "code",
      "metadata": {
        "id": "JjMLrSB5NAbS",
        "colab_type": "code",
        "colab": {}
      },
      "source": [
        "def editstu():\n",
        "    db = pymysql.connect(\"localhost\", \"root\", \"python3020\", \"pydb\")\n",
        "    dbcursor = db.cursor()\n",
        "    stuid = int(input(\"please input the student id you want to modify:\"))\n",
        "    stuname=input(\"please input a studentname:\")\n",
        "    stumajor=input(\"please input his/her major:\")\n",
        "    stuyear=int(input(\"please input his/her year:\"))\n",
        "    tuition=float(input(\"please input his/her tuition:\"))\n",
        "    memo=input(\"please input his/her description:\")\n",
        "\n",
        "    sql=\"update tstudent set stuname=%s,major=%s,stuyear=%s,tuition=%s,memo=%s where stuid=%s\"\n",
        "    values=(stuname,stumajor,stuyear,tuition,memo,stuid)\n",
        "    dbcursor.execute(sql,values)\n",
        "    db.commit()\n",
        "    dbcursor.close()\n",
        "    db.close()\n",
        "editstu()"
      ],
      "execution_count": 0,
      "outputs": []
    },
    {
      "cell_type": "markdown",
      "metadata": {
        "id": "kZEP5GSbMM7y",
        "colab_type": "text"
      },
      "source": [
        "**Q4:**write a function which can get the total count of students in one specific major(in command line)\n"
      ]
    },
    {
      "cell_type": "code",
      "metadata": {
        "id": "6Z3kduw-NFMW",
        "colab_type": "code",
        "colab": {}
      },
      "source": [
        "def countstu():\n",
        "    db = pymysql.connect(\"localhost\", \"root\", \"python3020\", \"pydb\")\n",
        "    dbcursor = db.cursor()\n",
        "    stumajor=input(\"please input a major you want to count:\")\n",
        "\n",
        "\n",
        "    sql=\"select count(*) as totalstudent from tstudent group by major having major=%s\"\n",
        "    dbcursor.execute(sql,stumajor)\n",
        "    result=dbcursor.fetchone()\n",
        "    print(\"there are \"+str(result[0])+\"  students in major of \"+stumajor)\n",
        "    dbcursor.close()\n",
        "    db.close()\n",
        "countstu()"
      ],
      "execution_count": 0,
      "outputs": []
    },
    {
      "cell_type": "markdown",
      "metadata": {
        "id": "Emki_JkRMNDg",
        "colab_type": "text"
      },
      "source": [
        "**Q5:**write a function which can get one student’s id and name randomly(in command line)\n"
      ]
    },
    {
      "cell_type": "code",
      "metadata": {
        "id": "-KrorVpzNIn6",
        "colab_type": "code",
        "colab": {}
      },
      "source": [
        "def  getsturandomly():\n",
        "    db = pymysql.connect(\"localhost\", \"root\", \"python3020\", \"pydb\")\n",
        "    dbcursor = db.cursor()\n",
        "\n",
        "    sql=\"select * from tstudent\"\n",
        "    stuidlist=[]\n",
        "    dbcursor.execute(sql)\n",
        "    results=dbcursor.fetchall()\n",
        "    for result in results:\n",
        "        stuidlist.append([result[0],result[1]])\n",
        "\n",
        "    import random\n",
        "    randomid=random.randint(0,len(stuidlist))\n",
        "    print(stuidlist[randomid-1])\n",
        "    dbcursor.close()\n",
        "    db.close()\n",
        "getsturandomly()"
      ],
      "execution_count": 0,
      "outputs": []
    }
  ]
}