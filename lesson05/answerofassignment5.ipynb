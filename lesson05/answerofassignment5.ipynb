{
  "nbformat": 4,
  "nbformat_minor": 0,
  "metadata": {
    "colab": {
      "name": "Untitled4.ipynb",
      "provenance": [],
      "authorship_tag": "ABX9TyNaJfBYyi+pP34NyZs0IEBW",
      "include_colab_link": true
    },
    "kernelspec": {
      "name": "python3",
      "display_name": "Python 3"
    }
  },
  "cells": [
    {
      "cell_type": "markdown",
      "metadata": {
        "id": "view-in-github",
        "colab_type": "text"
      },
      "source": [
        "<a href=\"https://colab.research.google.com/github/tmw622/Mingwei_INFO2020_Spring2020/blob/master/lesson05/answerofassignment5.ipynb\" target=\"_parent\"><img src=\"https://colab.research.google.com/assets/colab-badge.svg\" alt=\"Open In Colab\"/></a>"
      ]
    },
    {
      "cell_type": "markdown",
      "metadata": {
        "id": "nz1jo1Fr8c8X",
        "colab_type": "text"
      },
      "source": [
        "**Q1:**leUse tuple to create a student data structure which could store every student’s  student id, student name, and their courses they sected.\n",
        "\n",
        "There should be at least two courses\n",
        "\n",
        "Write a function which could return the courses by the specific student’s name"
      ]
    },
    {
      "cell_type": "code",
      "metadata": {
        "id": "SOU3syXAzSzY",
        "colab_type": "code",
        "colab": {
          "base_uri": "https://localhost:8080/",
          "height": 34
        },
        "outputId": "e893d5f4-ed60-4848-baed-e56e8d6e382c"
      },
      "source": [
        "studentlist=(\n",
        "               (\"1001\",\"John\",(\"Math\",\"PE\",\"Python\")),\n",
        "               (\"1002\",\"Alice\",(\"Art\",\"Java\",\"Python\")),\n",
        "               (\"1003\",\"Elysa\",(\"Writing\",\"R\",\"Python\")),\n",
        "               (\"1004\",\"Julia\",(\"Reading\",\"PE\",\"Java\")),\n",
        "               (\"1005\",\"Ben\",(\"Music\",\"PE\",\"Web Development\")),\n",
        "             )\n",
        "\n",
        "def getCourseByStuName(stuname):\n",
        "    for id,name,course in  studentlist:\n",
        "        if name==stuname:\n",
        "            print(course)\n",
        "\n",
        "getCourseByStuName(\"John\")\n"
      ],
      "execution_count": 1,
      "outputs": [
        {
          "output_type": "stream",
          "text": [
            "('Math', 'PE', 'Python')\n"
          ],
          "name": "stdout"
        }
      ]
    },
    {
      "cell_type": "markdown",
      "metadata": {
        "id": "FvM2tuU08nrx",
        "colab_type": "text"
      },
      "source": [
        "**Q2:**write a function which could create a matrix which has n rows and m columns.\n",
        "\n",
        "fill the matrix with any data you want\n",
        "\n",
        "write another function which  could return the index of any specific data\n",
        "\n",
        "if the specific data is not in the matrix, it return -1, or return the row and column where the data is in. \n"
      ]
    },
    {
      "cell_type": "code",
      "metadata": {
        "id": "bnr9xoDX83bq",
        "colab_type": "code",
        "colab": {
          "base_uri": "https://localhost:8080/",
          "height": 51
        },
        "outputId": "b3793688-8c0b-4cef-b471-a9f3df29c362"
      },
      "source": [
        "import random\n",
        "\n",
        "def CreateMatrix(row, col):\n",
        "    matrix=[]\n",
        "    for i in range(row):\n",
        "        submatrix=[]\n",
        "        for j in range(col):\n",
        "            num=random.randrange(100)\n",
        "            submatrix.append(num)\n",
        "        matrix.append(submatrix)\n",
        "    return matrix\n",
        "\n",
        "def SearchData(num,matrix):\n",
        "    row=len(matrix)\n",
        "    col=len(matrix[0])\n",
        "    for i in range(row):\n",
        "        for j in range(col):\n",
        "            element=matrix[i][j]\n",
        "            if element==num:\n",
        "                return (i,j)\n",
        "    return -1\n",
        "\n",
        "\n",
        "matrix=CreateMatrix(3,4)\n",
        "print(matrix)\n",
        "index=SearchData(21,matrix)\n",
        "print(index)"
      ],
      "execution_count": 10,
      "outputs": [
        {
          "output_type": "stream",
          "text": [
            "[[73, 90, 62, 34], [54, 59, 16, 82], [21, 63, 70, 55]]\n",
            "(2, 0)\n"
          ],
          "name": "stdout"
        }
      ]
    },
    {
      "cell_type": "markdown",
      "metadata": {
        "id": "ezBbj2tfLn1j",
        "colab_type": "text"
      },
      "source": [
        "**Q3：**Write a function which could return the frequency of occurrence of every word in one  specific string or passage.\n",
        "\n",
        "The result should be stored as dictionary.\n",
        "\n",
        "Write another function which could list the content of dictionary.  \n",
        "\n",
        "The effect is as follows:\n",
        "\n",
        "https://drive.google.com/file/d/1WQF_CaPWvazgk8_89IINTi71oFTwM4Up/view?usp=sharing\n"
      ]
    },
    {
      "cell_type": "code",
      "metadata": {
        "id": "u6d5YyxLM5ra",
        "colab_type": "code",
        "colab": {
          "base_uri": "https://localhost:8080/",
          "height": 1000
        },
        "outputId": "3ac10a18-7c98-4369-e30b-c1054b0d5c22"
      },
      "source": [
        "def GetFrequency(para):\n",
        "    occdict={}\n",
        "    wordslist=para.split(\" \")\n",
        "    for key in wordslist:\n",
        "        count=0\n",
        "        for i in range(len(wordslist)):\n",
        "            if key==wordslist[i]:\n",
        "                count+=1\n",
        "            occdict[key]=count\n",
        "    return occdict\n",
        "\n",
        "def ReadDict(dicts):\n",
        "    print(\"word      count\")\n",
        "    print(\"==============\")\n",
        "    for key in dicts.keys():\n",
        "        print(key+\"      \"+str(dicts[key]))\n",
        "\n",
        "\n",
        "\n",
        "paragraph=\"Geert JM Vanderkelen is a member of the MySQL \" \\\n",
        "          \"Support Team at Sun, a wholly-owned subsidiary o\" \\\n",
        "          \"f Oracle. He is based in Germany and has worked \" \\\n",
        "          \"for MySQL AB since April, 2005. Before joining\" \\\n",
        "          \" MySQL he worked as developer, DBA and SysAdmin \" \\\n",
        "          \"for various companies in Belgium and Germany.\" \\\n",
        "          \" Today Geert specializes in MySQL Cluster \" \\\n",
        "          \"and works together with colleagues around\" \\\n",
        "          \" the world to ensure continued support for \" \\\n",
        "          \"both customers and community. Geert is also \" \\\n",
        "          \"the maintainer of MySQL Connector/Python. \"\n",
        "\n",
        "\n",
        "dict=GetFrequency(paragraph)\n",
        "ReadDict(dict)"
      ],
      "execution_count": 11,
      "outputs": [
        {
          "output_type": "stream",
          "text": [
            "word      count\n",
            "==============\n",
            "Geert      3\n",
            "JM      1\n",
            "Vanderkelen      1\n",
            "is      3\n",
            "a      2\n",
            "member      1\n",
            "of      3\n",
            "the      3\n",
            "MySQL      5\n",
            "Support      1\n",
            "Team      1\n",
            "at      1\n",
            "Sun,      1\n",
            "wholly-owned      1\n",
            "subsidiary      1\n",
            "Oracle.      1\n",
            "He      1\n",
            "based      1\n",
            "in      3\n",
            "Germany      1\n",
            "and      5\n",
            "has      1\n",
            "worked      2\n",
            "for      3\n",
            "AB      1\n",
            "since      1\n",
            "April,      1\n",
            "2005.      1\n",
            "Before      1\n",
            "joining      1\n",
            "he      1\n",
            "as      1\n",
            "developer,      1\n",
            "DBA      1\n",
            "SysAdmin      1\n",
            "various      1\n",
            "companies      1\n",
            "Belgium      1\n",
            "Germany.      1\n",
            "Today      1\n",
            "specializes      1\n",
            "Cluster      1\n",
            "works      1\n",
            "together      1\n",
            "with      1\n",
            "colleagues      1\n",
            "around      1\n",
            "world      1\n",
            "to      1\n",
            "ensure      1\n",
            "continued      1\n",
            "support      1\n",
            "both      1\n",
            "customers      1\n",
            "community.      1\n",
            "also      1\n",
            "maintainer      1\n",
            "Connector/Python.      1\n",
            "      1\n"
          ],
          "name": "stdout"
        }
      ]
    }
  ]
}