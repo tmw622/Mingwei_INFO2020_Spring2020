{
  "nbformat": 4,
  "nbformat_minor": 0,
  "metadata": {
    "colab": {
      "name": "Untitled3.ipynb",
      "provenance": [],
      "collapsed_sections": [],
      "authorship_tag": "ABX9TyNpKqbxnA1gWnmLzlmj+Mln",
      "include_colab_link": true
    },
    "kernelspec": {
      "name": "python3",
      "display_name": "Python 3"
    }
  },
  "cells": [
    {
      "cell_type": "markdown",
      "metadata": {
        "id": "view-in-github",
        "colab_type": "text"
      },
      "source": [
        "<a href=\"https://colab.research.google.com/github/tmw622/Mingwei_INFO2020_Spring2020/blob/master/lesson05/codes.ipynb\" target=\"_parent\"><img src=\"https://colab.research.google.com/assets/colab-badge.svg\" alt=\"Open In Colab\"/></a>"
      ]
    },
    {
      "cell_type": "code",
      "metadata": {
        "id": "Dh_m0CbVx2jl",
        "colab_type": "code",
        "colab": {
          "base_uri": "https://localhost:8080/",
          "height": 187
        },
        "outputId": "0fd1400f-e4b0-43f6-cb73-94d4276b5841"
      },
      "source": [
        "celebs=((\"Brad\",1963),(\"Jack\",1937),(\"Justin\",1984))\n",
        "print(celebs)\n",
        "print(len(celebs))\n",
        "\n",
        "for name,year in celebs:\n",
        "  print(name)\n",
        "  print(year)\n",
        "  if year<1980:\n",
        "    print(name)"
      ],
      "execution_count": 47,
      "outputs": [
        {
          "output_type": "stream",
          "text": [
            "(('Brad', 1963), ('Jack', 1937), ('Justin', 1984))\n",
            "3\n",
            "Brad\n",
            "1963\n",
            "Brad\n",
            "Jack\n",
            "1937\n",
            "Jack\n",
            "Justin\n",
            "1984\n"
          ],
          "name": "stdout"
        }
      ]
    },
    {
      "cell_type": "code",
      "metadata": {
        "id": "-PxFL2lvzEH5",
        "colab_type": "code",
        "colab": {
          "base_uri": "https://localhost:8080/",
          "height": 68
        },
        "outputId": "a8fbc4fe-7f6f-4d36-d435-2e5f41988479"
      },
      "source": [
        "julia=(\"Julia\",\"Roberts\",1967,\"Duplicity\",2009)\n",
        "print(julia[1])\n",
        "\n",
        "bob=(\"Bob\",19,\"CS\")\n",
        "(name,age,stuides)=bob\n",
        "print(age)\n",
        "print(stuides)"
      ],
      "execution_count": 8,
      "outputs": [
        {
          "output_type": "stream",
          "text": [
            "Roberts\n",
            "19\n",
            "CS\n"
          ],
          "name": "stdout"
        }
      ]
    },
    {
      "cell_type": "code",
      "metadata": {
        "id": "CdS56-440EmQ",
        "colab_type": "code",
        "colab": {
          "base_uri": "https://localhost:8080/",
          "height": 34
        },
        "outputId": "da8ce2a3-af7b-4f5b-bb9a-dc998446a1a4"
      },
      "source": [
        "a=13\n",
        "b=15\n",
        "(a,b)=(b,a)\n",
        "print(a)"
      ],
      "execution_count": 9,
      "outputs": [
        {
          "output_type": "stream",
          "text": [
            "15\n"
          ],
          "name": "stdout"
        }
      ]
    },
    {
      "cell_type": "code",
      "metadata": {
        "id": "v34eae6_0fGf",
        "colab_type": "code",
        "colab": {
          "base_uri": "https://localhost:8080/",
          "height": 34
        },
        "outputId": "3c65b8d8-af49-4aa2-b4e9-f440ad120d27"
      },
      "source": [
        "import math\n",
        "def circle_stats(r):\n",
        "  circumference=2*math.pi*r\n",
        "  area=math.pi*r**2\n",
        "  return (circumference,area)\n",
        "\n",
        "print(circle_stats(6.1))"
      ],
      "execution_count": 12,
      "outputs": [
        {
          "output_type": "stream",
          "text": [
            "(38.32743037379547, 116.89866264007618)\n"
          ],
          "name": "stdout"
        }
      ]
    },
    {
      "cell_type": "code",
      "metadata": {
        "id": "l-1ISNHJ1Vh4",
        "colab_type": "code",
        "colab": {
          "base_uri": "https://localhost:8080/",
          "height": 68
        },
        "outputId": "75a16822-1fe2-4969-aa29-140aac1920b6"
      },
      "source": [
        "students=(\n",
        "    (\"John\",(\"CompSci\",\"Physics\")),\n",
        "    (\"Vusi\",(\"Math\",\"CompSci\",\"Stats\"))\n",
        ")\n",
        "\n",
        "print(students[1])\n",
        "print(students[1][1])\n",
        "print(students[1][1][1])"
      ],
      "execution_count": 14,
      "outputs": [
        {
          "output_type": "stream",
          "text": [
            "('Vusi', ('Math', 'CompSci', 'Stats'))\n",
            "('Math', 'CompSci', 'Stats')\n",
            "CompSci\n"
          ],
          "name": "stdout"
        }
      ]
    },
    {
      "cell_type": "code",
      "metadata": {
        "id": "7FDWkdIc2GDQ",
        "colab_type": "code",
        "colab": {
          "base_uri": "https://localhost:8080/",
          "height": 51
        },
        "outputId": "7564dba2-e795-4e50-e0ea-9dbdb89365e6"
      },
      "source": [
        "student=(\"java\",\"python\")\n",
        "student2=[\"java\",\"python\"]\n",
        "\n",
        "#student[0]=\"C#\"\n",
        "student2[0]=\"C#\"\n",
        "print(student[0])\n",
        "print(student2[0])"
      ],
      "execution_count": 16,
      "outputs": [
        {
          "output_type": "stream",
          "text": [
            "java\n",
            "C#\n"
          ],
          "name": "stdout"
        }
      ]
    },
    {
      "cell_type": "code",
      "metadata": {
        "id": "80FPzYar3Pao",
        "colab_type": "code",
        "colab": {
          "base_uri": "https://localhost:8080/",
          "height": 34
        },
        "outputId": "715a6e2c-20e0-4667-dedd-862556bd8b03"
      },
      "source": [
        "firstlist=[1,2,3]\n",
        "secondlist=[4,5,6]\n",
        "print(firstlist+secondlist)"
      ],
      "execution_count": 17,
      "outputs": [
        {
          "output_type": "stream",
          "text": [
            "[1, 2, 3, 4, 5, 6]\n"
          ],
          "name": "stdout"
        }
      ]
    },
    {
      "cell_type": "code",
      "metadata": {
        "id": "UAF-Evpg3psh",
        "colab_type": "code",
        "colab": {
          "base_uri": "https://localhost:8080/",
          "height": 34
        },
        "outputId": "4442b885-04ca-41e9-b347-1927a4dc1921"
      },
      "source": [
        "print(firstlist*4)\n"
      ],
      "execution_count": 18,
      "outputs": [
        {
          "output_type": "stream",
          "text": [
            "[1, 2, 3, 1, 2, 3, 1, 2, 3, 1, 2, 3]\n"
          ],
          "name": "stdout"
        }
      ]
    },
    {
      "cell_type": "code",
      "metadata": {
        "id": "hwb6mm0K33vm",
        "colab_type": "code",
        "colab": {
          "base_uri": "https://localhost:8080/",
          "height": 85
        },
        "outputId": "3f29c7a8-de9b-4964-cb15-2f4c88b39c79"
      },
      "source": [
        "alist=[\"a\",\"b\",\"c\",\"d\",\"e\",\"f\"]\n",
        "print(alist[1:7])\n",
        "print(alist[:4])\n",
        "print(alist[:])\n",
        "del alist[1:3]\n",
        "print(alist)"
      ],
      "execution_count": 26,
      "outputs": [
        {
          "output_type": "stream",
          "text": [
            "['b', 'c', 'd', 'e', 'f']\n",
            "['a', 'b', 'c', 'd']\n",
            "['a', 'b', 'c', 'd', 'e', 'f']\n",
            "['a', 'd', 'e', 'f']\n"
          ],
          "name": "stdout"
        }
      ]
    },
    {
      "cell_type": "code",
      "metadata": {
        "id": "w_e5tffd5lLo",
        "colab_type": "code",
        "colab": {
          "base_uri": "https://localhost:8080/",
          "height": 85
        },
        "outputId": "468cc09a-591c-468c-bd27-ef0c5965e7d9"
      },
      "source": [
        "a=[1,2,3]\n",
        "#b=a\n",
        "#b[0]=5\n",
        "#print(a)\n",
        "#a[1]=6\n",
        "#print(b)\n",
        "\n",
        "c=a[:]\n",
        "print(a)\n",
        "print(c)\n",
        "c[0]=9\n",
        "print(a)\n",
        "print(c)"
      ],
      "execution_count": 30,
      "outputs": [
        {
          "output_type": "stream",
          "text": [
            "[1, 2, 3]\n",
            "[1, 2, 3]\n",
            "[1, 2, 3]\n",
            "[9, 2, 3]\n"
          ],
          "name": "stdout"
        }
      ]
    },
    {
      "cell_type": "code",
      "metadata": {
        "id": "o7GsDEVJ6Zdw",
        "colab_type": "code",
        "colab": {
          "base_uri": "https://localhost:8080/",
          "height": 102
        },
        "outputId": "8a5c08a5-cd3a-4a1c-ca51-83d8816218fe"
      },
      "source": [
        "friends=[\"joe\",\"zoe\",\"brad\",\"angelina\"]\n",
        "print(list(enumerate(friends)))\n",
        "for (i,val) in enumerate(friends):\n",
        "  print(i,val)"
      ],
      "execution_count": 34,
      "outputs": [
        {
          "output_type": "stream",
          "text": [
            "[(0, 'joe'), (1, 'zoe'), (2, 'brad'), (3, 'angelina')]\n",
            "0 joe\n",
            "1 zoe\n",
            "2 brad\n",
            "3 angelina\n"
          ],
          "name": "stdout"
        }
      ]
    },
    {
      "cell_type": "code",
      "metadata": {
        "id": "3ikzccUe7Iuf",
        "colab_type": "code",
        "colab": {
          "base_uri": "https://localhost:8080/",
          "height": 136
        },
        "outputId": "392033fa-ab8b-4883-b729-adaf860e5c65"
      },
      "source": [
        "mylist=[]\n",
        "mylist.append(5)\n",
        "mylist.append(27)\n",
        "mylist.append(3)\n",
        "mylist.append(12)\n",
        "print(mylist)\n",
        "mylist.insert(1,12)\n",
        "print(mylist)\n",
        "print(mylist.count(12))\n",
        "print(mylist.index(12))\n",
        "\n",
        "mylist.reverse()\n",
        "print(mylist)\n",
        "mylist.sort()\n",
        "print(mylist)\n",
        "\n",
        "mylist.remove(12)\n",
        "print(mylist)"
      ],
      "execution_count": 43,
      "outputs": [
        {
          "output_type": "stream",
          "text": [
            "[5, 27, 3, 12]\n",
            "[5, 12, 27, 3, 12]\n",
            "2\n",
            "1\n",
            "[12, 3, 27, 12, 5]\n",
            "[3, 5, 12, 12, 27]\n",
            "[3, 5, 12, 27]\n"
          ],
          "name": "stdout"
        }
      ]
    },
    {
      "cell_type": "code",
      "metadata": {
        "id": "IZfE1Cct8eIn",
        "colab_type": "code",
        "colab": {
          "base_uri": "https://localhost:8080/",
          "height": 51
        },
        "outputId": "89f02865-782a-496b-bc9d-d5f86477c9ae"
      },
      "source": [
        "mx=[[1,2,3],[4,5,6],[7,8,9]]\n",
        "print(mx[1])\n",
        "print(mx[1][1])"
      ],
      "execution_count": 45,
      "outputs": [
        {
          "output_type": "stream",
          "text": [
            "[4, 5, 6]\n",
            "5\n"
          ],
          "name": "stdout"
        }
      ]
    },
    {
      "cell_type": "code",
      "metadata": {
        "id": "EBPx5TQC-5a1",
        "colab_type": "code",
        "colab": {
          "base_uri": "https://localhost:8080/",
          "height": 102
        },
        "outputId": "f0156cfc-b91e-4073-f826-9d02e798b0eb"
      },
      "source": [
        "english_spanish={}\n",
        "english_spanish[\"one\"]=\"uno\"\n",
        "english_spanish[\"two\"]=\"dos\"\n",
        "print(english_spanish)\n",
        "print(english_spanish[\"one\"])\n",
        "\n",
        "#del english_spanish[\"two\"]\n",
        "#print(english_spanish)\n",
        "\n",
        "print(english_spanish.keys())\n",
        "print(english_spanish.values())\n",
        "\n",
        "print(english_spanish.items())"
      ],
      "execution_count": 56,
      "outputs": [
        {
          "output_type": "stream",
          "text": [
            "{'one': 'uno', 'two': 'dos'}\n",
            "uno\n",
            "dict_keys(['one', 'two'])\n",
            "dict_values(['uno', 'dos'])\n",
            "dict_items([('one', 'uno'), ('two', 'dos')])\n"
          ],
          "name": "stdout"
        }
      ]
    }
  ]
}